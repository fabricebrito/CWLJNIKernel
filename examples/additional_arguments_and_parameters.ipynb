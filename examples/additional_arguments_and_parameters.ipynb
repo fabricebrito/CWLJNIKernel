{
 "cells": [
  {
   "cell_type": "markdown",
   "metadata": {},
   "source": [
    "# Common Workflow Language - Jupyter Notebook Kernel"
   ]
  },
  {
   "cell_type": "markdown",
   "metadata": {},
   "source": [
    "## [Additional Arguments and Parameters](https://www.commonwl.org/user_guide/08-arguments/index.html)\n",
    "\n",
    "That example is required an existing file which could be created with the following commands:\n",
    "```bash\n",
    "cd /tmp/CWLKERNEL_DATA/runtime_data \n",
    "echo \"public class Hello {}\" > Hello.java\n",
    "```"
   ]
  },
  {
   "cell_type": "code",
   "execution_count": 1,
   "metadata": {},
   "outputs": [
    {
     "name": "stdout",
     "output_type": "stream",
     "text": [
      "tool 'compile' registered"
     ]
    }
   ],
   "source": [
    "#!/usr/bin/env cwl-runner\n",
    "\n",
    "cwlVersion: v1.0\n",
    "class: CommandLineTool\n",
    "label: Example trivial wrapper for Java 9 compiler\n",
    "id: compile\n",
    "hints:\n",
    "  DockerRequirement:\n",
    "    dockerPull: openjdk:9.0.1-11-slim\n",
    "baseCommand: javac\n",
    "arguments: [\"-d\", $(runtime.outdir)]\n",
    "inputs:\n",
    "  src:\n",
    "    type: File\n",
    "    inputBinding:\n",
    "      position: 1\n",
    "outputs:\n",
    "  classfile:\n",
    "    type: File\n",
    "    outputBinding:\n",
    "      glob: \"*.class\""
   ]
  },
  {
   "cell_type": "code",
   "execution_count": 2,
   "metadata": {},
   "outputs": [
    {
     "name": "stdout",
     "output_type": "stream",
     "text": [
      "Add data in memory"
     ]
    },
    {
     "data": {
      "application/json": {
       "classfile": {
        "basename": "Hello.class",
        "checksum": "sha1$fdb876b40ad9ebc7fee873212e02d5940588642e",
        "class": "File",
        "http://commonwl.org/cwltool#generation": 0,
        "id": "classfile",
        "location": "file:///private/tmp/CWLKERNEL_DATA/runtime_data/Hello.class",
        "nameext": ".class",
        "nameroot": "Hello",
        "size": 184
       }
      },
      "text/plain": [
       "<IPython.core.display.JSON object>"
      ]
     },
     "metadata": {
      "application/json": {
       "expanded": false,
       "root": "root"
      }
     },
     "output_type": "display_data"
    }
   ],
   "source": [
    "% execute compile\n",
    "src:\n",
    "  class: File\n",
    "  location: Hello.java"
   ]
  }
 ],
 "metadata": {
  "kernelspec": {
   "display_name": "Common Workflow Languages",
   "language": "cwl",
   "name": "cwlkernel"
  },
  "language_info": {
   "file_extension": ".cwl",
   "mimetype": "text/x-cwl",
   "name": "yaml"
  }
 },
 "nbformat": 4,
 "nbformat_minor": 4
}
