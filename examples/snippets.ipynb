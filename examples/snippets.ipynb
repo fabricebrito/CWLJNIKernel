{
 "cells": [
  {
   "cell_type": "markdown",
   "metadata": {},
   "source": [
    "# Append Snippets"
   ]
  },
  {
   "cell_type": "code",
   "execution_count": 1,
   "metadata": {},
   "outputs": [
    {
     "data": {
      "application/json": {
       "baseCommand": [
        "head"
       ],
       "class": "CommandLineTool",
       "cwlVersion": "v1.0",
       "id": "head"
      },
      "text/plain": [
       "<IPython.core.display.JSON object>"
      ]
     },
     "metadata": {
      "application/json": {
       "expanded": false,
       "root": "root"
      }
     },
     "output_type": "display_data"
    }
   ],
   "source": [
    "% snippet add\n",
    "class: CommandLineTool\n",
    "cwlVersion: v1.0\n",
    "id: head\n",
    "baseCommand:\n",
    "  - head"
   ]
  },
  {
   "cell_type": "code",
   "execution_count": 2,
   "metadata": {},
   "outputs": [
    {
     "data": {
      "application/json": {
       "baseCommand": [
        "head"
       ],
       "class": "CommandLineTool",
       "cwlVersion": "v1.0",
       "id": "head",
       "inputs": [
        {
         "id": "number_of_lines",
         "inputBinding": {
          "position": 0,
          "prefix": "-n"
         },
         "type": "int?"
        },
        {
         "id": "headinput",
         "inputBinding": {
          "position": 1
         },
         "type": "File"
        }
       ]
      },
      "text/plain": [
       "<IPython.core.display.JSON object>"
      ]
     },
     "metadata": {
      "application/json": {
       "expanded": false,
       "root": "root"
      }
     },
     "output_type": "display_data"
    }
   ],
   "source": [
    "% snippet add\n",
    "inputs:\n",
    "  - id: number_of_lines\n",
    "    type: int?\n",
    "    inputBinding:\n",
    "      position: 0\n",
    "      prefix: '-n'\n",
    "  - id: headinput\n",
    "    type: File\n",
    "    inputBinding:\n",
    "      position: 1"
   ]
  },
  {
   "cell_type": "code",
   "execution_count": 3,
   "metadata": {},
   "outputs": [
    {
     "data": {
      "application/json": {
       "baseCommand": [
        "head"
       ],
       "class": "CommandLineTool",
       "cwlVersion": "v1.0",
       "id": "head",
       "inputs": [
        {
         "id": "number_of_lines",
         "inputBinding": {
          "position": 0,
          "prefix": "-n"
         },
         "type": "int?"
        },
        {
         "id": "headinput",
         "inputBinding": {
          "position": 1
         },
         "type": "File"
        }
       ],
       "outputs": [
        {
         "id": "headoutput",
         "type": "stdout"
        }
       ]
      },
      "text/plain": [
       "<IPython.core.display.JSON object>"
      ]
     },
     "metadata": {
      "application/json": {
       "expanded": false,
       "root": "root"
      }
     },
     "output_type": "display_data"
    }
   ],
   "source": [
    "% snippet add\n",
    "outputs:\n",
    "  - id: headoutput\n",
    "    type: stdout"
   ]
  },
  {
   "cell_type": "code",
   "execution_count": 4,
   "metadata": {},
   "outputs": [
    {
     "data": {
      "application/json": {
       "baseCommand": [
        "head"
       ],
       "class": "CommandLineTool",
       "cwlVersion": "v1.0",
       "id": "head",
       "inputs": [
        {
         "id": "number_of_lines",
         "inputBinding": {
          "position": 0,
          "prefix": "-n"
         },
         "type": "int?"
        },
        {
         "id": "headinput",
         "inputBinding": {
          "position": 1
         },
         "type": "File"
        }
       ],
       "label": "head",
       "outputs": [
        {
         "id": "headoutput",
         "type": "stdout"
        }
       ],
       "stdout": "head.out"
      },
      "text/plain": [
       "{\"class\": \"CommandLineTool\", \"cwlVersion\": \"v1.0\", \"id\": \"head\", \"baseCommand\": [\"head\"], \"inputs\": [{\"id\": \"number_of_lines\", \"type\": \"int?\", \"inputBinding\": {\"position\": 0, \"prefix\": \"-n\"}}, {\"id\": \"headinput\", \"type\": \"File\", \"inputBinding\": {\"position\": 1}}], \"outputs\": [{\"id\": \"headoutput\", \"type\": \"stdout\"}], \"label\": \"head\", \"stdout\": \"head.out\"}"
      ]
     },
     "metadata": {
      "application/json": {
       "expanded": false,
       "root": "root"
      }
     },
     "output_type": "display_data"
    }
   ],
   "source": [
    "% snippet build\n",
    "label: head\n",
    "stdout: head.out"
   ]
  },
  {
   "cell_type": "code",
   "execution_count": 9,
   "metadata": {},
   "outputs": [
    {
     "name": "stdout",
     "output_type": "stream",
     "text": [
      "Add data in memory"
     ]
    },
    {
     "data": {
      "application/json": {
       "headoutput": {
        "basename": "head.out",
        "checksum": "sha1$728aa6b07e4a63f29b8ab55af49609d84c8482e1",
        "class": "File",
        "http://commonwl.org/cwltool#generation": 0,
        "id": "headoutput",
        "location": "file:///private/tmp/CWLKERNEL_DATA/055914f7-cd2a-457b-ac3a-cdb72b07a606/runtime_data/head.out",
        "nameext": ".out",
        "nameroot": "head",
        "result_counter": 0,
        "size": 656
       }
      },
      "text/plain": [
       "{\"headoutput\": {\"location\": \"file:///private/tmp/CWLKERNEL_DATA/055914f7-cd2a-457b-ac3a-cdb72b07a606/runtime_data/head.out\", \"basename\": \"head.out\", \"nameroot\": \"head\", \"nameext\": \".out\", \"class\": \"File\", \"checksum\": \"sha1$728aa6b07e4a63f29b8ab55af49609d84c8482e1\", \"size\": 656, \"http://commonwl.org/cwltool#generation\": 0, \"id\": \"headoutput\", \"result_counter\": 0}}"
      ]
     },
     "metadata": {
      "application/json": {
       "expanded": false,
       "root": "root"
      }
     },
     "output_type": "display_data"
    }
   ],
   "source": [
    "% execute head\n",
    "headinput:\n",
    "    class: File\n",
    "    location: /Users/dks/Desktop/data.csv"
   ]
  },
  {
   "cell_type": "code",
   "execution_count": 10,
   "metadata": {},
   "outputs": [
    {
     "data": {
      "text/html": [
       "<table border=\"1\" class=\"dataframe\">\n",
       "  <thead>\n",
       "    <tr style=\"text-align: right;\">\n",
       "      <th>0</th>\n",
       "      <th>1</th>\n",
       "      <th>2</th>\n",
       "      <th>3</th>\n",
       "      <th>4</th>\n",
       "      <th>5</th>\n",
       "      <th>6</th>\n",
       "      <th>7</th>\n",
       "      <th>8</th>\n",
       "      <th>9</th>\n",
       "      <th>10</th>\n",
       "    </tr>\n",
       "  </thead>\n",
       "  <tbody>\n",
       "    <tr>\n",
       "      <td>dateRep</td>\n",
       "      <td>day</td>\n",
       "      <td>month</td>\n",
       "      <td>year</td>\n",
       "      <td>cases</td>\n",
       "      <td>deaths</td>\n",
       "      <td>countriesAndTerritories</td>\n",
       "      <td>geoId</td>\n",
       "      <td>countryterritoryCode</td>\n",
       "      <td>popData2018</td>\n",
       "      <td>continentExp</td>\n",
       "    </tr>\n",
       "    <tr>\n",
       "      <td>11/05/2020</td>\n",
       "      <td>11</td>\n",
       "      <td>5</td>\n",
       "      <td>2020</td>\n",
       "      <td>369</td>\n",
       "      <td>5</td>\n",
       "      <td>Afghanistan</td>\n",
       "      <td>AF</td>\n",
       "      <td>AFG</td>\n",
       "      <td>37172386</td>\n",
       "      <td>Asia</td>\n",
       "    </tr>\n",
       "    <tr>\n",
       "      <td>10/05/2020</td>\n",
       "      <td>10</td>\n",
       "      <td>5</td>\n",
       "      <td>2020</td>\n",
       "      <td>255</td>\n",
       "      <td>6</td>\n",
       "      <td>Afghanistan</td>\n",
       "      <td>AF</td>\n",
       "      <td>AFG</td>\n",
       "      <td>37172386</td>\n",
       "      <td>Asia</td>\n",
       "    </tr>\n",
       "    <tr>\n",
       "      <td>09/05/2020</td>\n",
       "      <td>9</td>\n",
       "      <td>5</td>\n",
       "      <td>2020</td>\n",
       "      <td>215</td>\n",
       "      <td>3</td>\n",
       "      <td>Afghanistan</td>\n",
       "      <td>AF</td>\n",
       "      <td>AFG</td>\n",
       "      <td>37172386</td>\n",
       "      <td>Asia</td>\n",
       "    </tr>\n",
       "    <tr>\n",
       "      <td>08/05/2020</td>\n",
       "      <td>8</td>\n",
       "      <td>5</td>\n",
       "      <td>2020</td>\n",
       "      <td>171</td>\n",
       "      <td>2</td>\n",
       "      <td>Afghanistan</td>\n",
       "      <td>AF</td>\n",
       "      <td>AFG</td>\n",
       "      <td>37172386</td>\n",
       "      <td>Asia</td>\n",
       "    </tr>\n",
       "    <tr>\n",
       "      <td>07/05/2020</td>\n",
       "      <td>7</td>\n",
       "      <td>5</td>\n",
       "      <td>2020</td>\n",
       "      <td>168</td>\n",
       "      <td>9</td>\n",
       "      <td>Afghanistan</td>\n",
       "      <td>AF</td>\n",
       "      <td>AFG</td>\n",
       "      <td>37172386</td>\n",
       "      <td>Asia</td>\n",
       "    </tr>\n",
       "    <tr>\n",
       "      <td>06/05/2020</td>\n",
       "      <td>6</td>\n",
       "      <td>5</td>\n",
       "      <td>2020</td>\n",
       "      <td>330</td>\n",
       "      <td>5</td>\n",
       "      <td>Afghanistan</td>\n",
       "      <td>AF</td>\n",
       "      <td>AFG</td>\n",
       "      <td>37172386</td>\n",
       "      <td>Asia</td>\n",
       "    </tr>\n",
       "    <tr>\n",
       "      <td>05/05/2020</td>\n",
       "      <td>5</td>\n",
       "      <td>5</td>\n",
       "      <td>2020</td>\n",
       "      <td>190</td>\n",
       "      <td>5</td>\n",
       "      <td>Afghanistan</td>\n",
       "      <td>AF</td>\n",
       "      <td>AFG</td>\n",
       "      <td>37172386</td>\n",
       "      <td>Asia</td>\n",
       "    </tr>\n",
       "    <tr>\n",
       "      <td>04/05/2020</td>\n",
       "      <td>4</td>\n",
       "      <td>5</td>\n",
       "      <td>2020</td>\n",
       "      <td>235</td>\n",
       "      <td>13</td>\n",
       "      <td>Afghanistan</td>\n",
       "      <td>AF</td>\n",
       "      <td>AFG</td>\n",
       "      <td>37172386</td>\n",
       "      <td>Asia</td>\n",
       "    </tr>\n",
       "    <tr>\n",
       "      <td>03/05/2020</td>\n",
       "      <td>3</td>\n",
       "      <td>5</td>\n",
       "      <td>2020</td>\n",
       "      <td>134</td>\n",
       "      <td>4</td>\n",
       "      <td>Afghanistan</td>\n",
       "      <td>AF</td>\n",
       "      <td>AFG</td>\n",
       "      <td>37172386</td>\n",
       "      <td>Asia</td>\n",
       "    </tr>\n",
       "  </tbody>\n",
       "</table>"
      ],
      "text/plain": [
       "           0    1      2     3      4       5                        6      7                     8            9             10\n",
       "0     dateRep  day  month  year  cases  deaths  countriesAndTerritories  geoId  countryterritoryCode  popData2018  continentExp\n",
       "1  11/05/2020   11      5  2020    369       5              Afghanistan     AF                   AFG     37172386          Asia\n",
       "2  10/05/2020   10      5  2020    255       6              Afghanistan     AF                   AFG     37172386          Asia\n",
       "3  09/05/2020    9      5  2020    215       3              Afghanistan     AF                   AFG     37172386          Asia\n",
       "4  08/05/2020    8      5  2020    171       2              Afghanistan     AF                   AFG     37172386          Asia\n",
       "5  07/05/2020    7      5  2020    168       9              Afghanistan     AF                   AFG     37172386          Asia\n",
       "6  06/05/2020    6      5  2020    330       5              Afghanistan     AF                   AFG     37172386          Asia\n",
       "7  05/05/2020    5      5  2020    190       5              Afghanistan     AF                   AFG     37172386          Asia\n",
       "8  04/05/2020    4      5  2020    235      13              Afghanistan     AF                   AFG     37172386          Asia\n",
       "9  03/05/2020    3      5  2020    134       4              Afghanistan     AF                   AFG     37172386          Asia"
      ]
     },
     "metadata": {},
     "output_type": "display_data"
    }
   ],
   "source": [
    "% display_data_csv headoutput"
   ]
  }
 ],
 "metadata": {
  "kernelspec": {
   "display_name": "Common Workflow Languages",
   "language": "cwl",
   "name": "cwlkernel"
  },
  "language_info": {
   "file_extension": ".cwl",
   "mimetype": "text/x-cwl",
   "name": "yaml"
  }
 },
 "nbformat": 4,
 "nbformat_minor": 4
}
