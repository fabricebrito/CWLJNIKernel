{
 "cells": [
  {
   "cell_type": "markdown",
   "metadata": {},
   "source": [
    "# Append Snippets"
   ]
  },
  {
   "cell_type": "code",
   "execution_count": 1,
   "metadata": {},
   "outputs": [
    {
     "data": {
      "application/json": {
       "baseCommand": [
        "head"
       ],
       "class": "CommandLineTool",
       "cwlVersion": "v1.1",
       "id": "head"
      },
      "text/plain": [
       "{\"class\": \"CommandLineTool\", \"cwlVersion\": \"v1.1\", \"id\": \"head\", \"baseCommand\": [\"head\"]}"
      ]
     },
     "metadata": {
      "application/json": {
       "expanded": false,
       "root": "root"
      }
     },
     "output_type": "display_data"
    }
   ],
   "source": [
    "% snippet add\n",
    "class: CommandLineTool\n",
    "cwlVersion: v1.1\n",
    "id: head\n",
    "baseCommand:\n",
    "  - head"
   ]
  },
  {
   "cell_type": "code",
   "execution_count": 2,
   "metadata": {},
   "outputs": [
    {
     "data": {
      "application/json": {
       "baseCommand": [
        "head"
       ],
       "class": "CommandLineTool",
       "cwlVersion": "v1.1",
       "id": "head",
       "inputs": [
        {
         "id": "number_of_lines",
         "inputBinding": {
          "position": 0,
          "prefix": "-n"
         },
         "type": "int?"
        },
        {
         "id": "headinput",
         "inputBinding": {
          "position": 1
         },
         "type": "File"
        }
       ]
      },
      "text/plain": [
       "{\"class\": \"CommandLineTool\", \"cwlVersion\": \"v1.1\", \"id\": \"head\", \"baseCommand\": [\"head\"], \"inputs\": [{\"id\": \"number_of_lines\", \"type\": \"int?\", \"inputBinding\": {\"position\": 0, \"prefix\": \"-n\"}}, {\"id\": \"headinput\", \"type\": \"File\", \"inputBinding\": {\"position\": 1}}]}"
      ]
     },
     "metadata": {
      "application/json": {
       "expanded": false,
       "root": "root"
      }
     },
     "output_type": "display_data"
    }
   ],
   "source": [
    "% snippet add\n",
    "inputs:\n",
    "  - id: number_of_lines\n",
    "    type: int?\n",
    "    inputBinding:\n",
    "      position: 0\n",
    "      prefix: '-n'\n",
    "  - id: headinput\n",
    "    type: File\n",
    "    inputBinding:\n",
    "      position: 1"
   ]
  },
  {
   "cell_type": "code",
   "execution_count": 3,
   "metadata": {},
   "outputs": [
    {
     "data": {
      "application/json": {
       "baseCommand": [
        "head"
       ],
       "class": "CommandLineTool",
       "cwlVersion": "v1.1",
       "id": "head",
       "inputs": [
        {
         "id": "number_of_lines",
         "inputBinding": {
          "position": 0,
          "prefix": "-n"
         },
         "type": "int?"
        },
        {
         "id": "headinput",
         "inputBinding": {
          "position": 1
         },
         "type": "File"
        }
       ],
       "outputs": [
        {
         "id": "headoutput",
         "type": "stdout"
        }
       ]
      },
      "text/plain": [
       "{\"class\": \"CommandLineTool\", \"cwlVersion\": \"v1.1\", \"id\": \"head\", \"baseCommand\": [\"head\"], \"inputs\": [{\"id\": \"number_of_lines\", \"type\": \"int?\", \"inputBinding\": {\"position\": 0, \"prefix\": \"-n\"}}, {\"id\": \"headinput\", \"type\": \"File\", \"inputBinding\": {\"position\": 1}}], \"outputs\": [{\"id\": \"headoutput\", \"type\": \"stdout\"}]}"
      ]
     },
     "metadata": {
      "application/json": {
       "expanded": false,
       "root": "root"
      }
     },
     "output_type": "display_data"
    }
   ],
   "source": [
    "% snippet add\n",
    "outputs:\n",
    "  - id: headoutput\n",
    "    type: stdout"
   ]
  },
  {
   "cell_type": "code",
   "execution_count": 4,
   "metadata": {},
   "outputs": [
    {
     "data": {
      "application/json": {
       "baseCommand": [
        "head"
       ],
       "class": "CommandLineTool",
       "cwlVersion": "v1.1",
       "id": "head",
       "inputs": [
        {
         "id": "number_of_lines",
         "inputBinding": {
          "position": 0,
          "prefix": "-n"
         },
         "type": "int?"
        },
        {
         "id": "headinput",
         "inputBinding": {
          "position": 1
         },
         "type": "File"
        }
       ],
       "label": "head",
       "outputs": [
        {
         "id": "headoutput",
         "type": "stdout"
        }
       ],
       "stdout": "head.out"
      },
      "text/plain": [
       "{\"class\": \"CommandLineTool\", \"cwlVersion\": \"v1.1\", \"id\": \"head\", \"baseCommand\": [\"head\"], \"inputs\": [{\"id\": \"number_of_lines\", \"type\": \"int?\", \"inputBinding\": {\"position\": 0, \"prefix\": \"-n\"}}, {\"id\": \"headinput\", \"type\": \"File\", \"inputBinding\": {\"position\": 1}}], \"outputs\": [{\"id\": \"headoutput\", \"type\": \"stdout\"}], \"label\": \"head\", \"stdout\": \"head.out\"}"
      ]
     },
     "metadata": {
      "application/json": {
       "expanded": false,
       "root": "root"
      }
     },
     "output_type": "display_data"
    }
   ],
   "source": [
    "% snippet build\n",
    "label: head\n",
    "stdout: head.out"
   ]
  },
  {
   "cell_type": "code",
   "execution_count": 5,
   "metadata": {},
   "outputs": [
    {
     "name": "stdout",
     "output_type": "stream",
     "text": [
      "Add data in memory"
     ]
    },
    {
     "data": {
      "application/json": {
       "headoutput": {
        "basename": "head.out",
        "checksum": "sha1$e186f07099395040cf9d83ff1eb0a5dad4801937",
        "class": "File",
        "http://commonwl.org/cwltool#generation": 0,
        "id": "headoutput",
        "location": "file:///private/tmp/CWLKERNEL_DATA/312d98ea-c39d-406e-ad26-5c2ba63bba59/runtime_data/head.out",
        "nameext": ".out",
        "nameroot": "head",
        "result_counter": 0,
        "size": 688
       }
      },
      "text/plain": [
       "{\"headoutput\": {\"location\": \"file:///private/tmp/CWLKERNEL_DATA/312d98ea-c39d-406e-ad26-5c2ba63bba59/runtime_data/head.out\", \"basename\": \"head.out\", \"nameroot\": \"head\", \"nameext\": \".out\", \"class\": \"File\", \"checksum\": \"sha1$e186f07099395040cf9d83ff1eb0a5dad4801937\", \"size\": 688, \"http://commonwl.org/cwltool#generation\": 0, \"id\": \"headoutput\", \"result_counter\": 0}}"
      ]
     },
     "metadata": {
      "application/json": {
       "expanded": false,
       "root": "root"
      }
     },
     "output_type": "display_data"
    }
   ],
   "source": [
    "% execute head\n",
    "headinput:\n",
    "    class: File\n",
    "    location: /Users/dks/Workspaces/CWLKernel/tests/input_data/data.csv"
   ]
  },
  {
   "cell_type": "code",
   "execution_count": 6,
   "metadata": {},
   "outputs": [
    {
     "data": {
      "text/html": [
       "<table border=\"1\" class=\"dataframe\">\n",
       "  <thead>\n",
       "    <tr style=\"text-align: right;\">\n",
       "      <th>0</th>\n",
       "      <th>1</th>\n",
       "      <th>2</th>\n",
       "      <th>3</th>\n",
       "      <th>4</th>\n",
       "      <th>5</th>\n",
       "      <th>6</th>\n",
       "      <th>7</th>\n",
       "      <th>8</th>\n",
       "      <th>9</th>\n",
       "      <th>10</th>\n",
       "      <th>11</th>\n",
       "      <th>12</th>\n",
       "      <th>13</th>\n",
       "      <th>14</th>\n",
       "      <th>15</th>\n",
       "      <th>16</th>\n",
       "      <th>17</th>\n",
       "      <th>18</th>\n",
       "      <th>19</th>\n",
       "    </tr>\n",
       "  </thead>\n",
       "  <tbody>\n",
       "    <tr>\n",
       "      <td>-54</td>\n",
       "      <td>-85</td>\n",
       "      <td>-5</td>\n",
       "      <td>47</td>\n",
       "      <td>39</td>\n",
       "      <td>20</td>\n",
       "      <td>-58</td>\n",
       "      <td>24</td>\n",
       "      <td>12</td>\n",
       "      <td>13</td>\n",
       "      <td>4</td>\n",
       "      <td>-22</td>\n",
       "      <td>-1</td>\n",
       "      <td>-70</td>\n",
       "      <td>44</td>\n",
       "      <td>-30</td>\n",
       "      <td>91</td>\n",
       "      <td>-6</td>\n",
       "      <td>40</td>\n",
       "      <td>-24</td>\n",
       "    </tr>\n",
       "    <tr>\n",
       "      <td>29</td>\n",
       "      <td>35</td>\n",
       "      <td>10</td>\n",
       "      <td>-83</td>\n",
       "      <td>48</td>\n",
       "      <td>47</td>\n",
       "      <td>-99</td>\n",
       "      <td>-69</td>\n",
       "      <td>-47</td>\n",
       "      <td>23</td>\n",
       "      <td>22</td>\n",
       "      <td>100</td>\n",
       "      <td>72</td>\n",
       "      <td>-81</td>\n",
       "      <td>32</td>\n",
       "      <td>30</td>\n",
       "      <td>-90</td>\n",
       "      <td>57</td>\n",
       "      <td>61</td>\n",
       "      <td>81</td>\n",
       "    </tr>\n",
       "    <tr>\n",
       "      <td>-28</td>\n",
       "      <td>31</td>\n",
       "      <td>-71</td>\n",
       "      <td>-67</td>\n",
       "      <td>40</td>\n",
       "      <td>33</td>\n",
       "      <td>-8</td>\n",
       "      <td>12</td>\n",
       "      <td>-76</td>\n",
       "      <td>12</td>\n",
       "      <td>94</td>\n",
       "      <td>-71</td>\n",
       "      <td>-70</td>\n",
       "      <td>-51</td>\n",
       "      <td>95</td>\n",
       "      <td>-59</td>\n",
       "      <td>58</td>\n",
       "      <td>-30</td>\n",
       "      <td>57</td>\n",
       "      <td>-16</td>\n",
       "    </tr>\n",
       "    <tr>\n",
       "      <td>-24</td>\n",
       "      <td>-34</td>\n",
       "      <td>-84</td>\n",
       "      <td>-56</td>\n",
       "      <td>-27</td>\n",
       "      <td>-45</td>\n",
       "      <td>-64</td>\n",
       "      <td>-9</td>\n",
       "      <td>-18</td>\n",
       "      <td>72</td>\n",
       "      <td>18</td>\n",
       "      <td>21</td>\n",
       "      <td>33</td>\n",
       "      <td>74</td>\n",
       "      <td>94</td>\n",
       "      <td>22</td>\n",
       "      <td>-31</td>\n",
       "      <td>-72</td>\n",
       "      <td>94</td>\n",
       "      <td>60</td>\n",
       "    </tr>\n",
       "    <tr>\n",
       "      <td>17</td>\n",
       "      <td>45</td>\n",
       "      <td>-68</td>\n",
       "      <td>-76</td>\n",
       "      <td>-32</td>\n",
       "      <td>72</td>\n",
       "      <td>-10</td>\n",
       "      <td>-9</td>\n",
       "      <td>35</td>\n",
       "      <td>88</td>\n",
       "      <td>31</td>\n",
       "      <td>41</td>\n",
       "      <td>66</td>\n",
       "      <td>32</td>\n",
       "      <td>97</td>\n",
       "      <td>-15</td>\n",
       "      <td>-76</td>\n",
       "      <td>-20</td>\n",
       "      <td>-27</td>\n",
       "      <td>-84</td>\n",
       "    </tr>\n",
       "    <tr>\n",
       "      <td>53</td>\n",
       "      <td>76</td>\n",
       "      <td>-98</td>\n",
       "      <td>12</td>\n",
       "      <td>-47</td>\n",
       "      <td>14</td>\n",
       "      <td>-34</td>\n",
       "      <td>54</td>\n",
       "      <td>72</td>\n",
       "      <td>-12</td>\n",
       "      <td>-20</td>\n",
       "      <td>56</td>\n",
       "      <td>81</td>\n",
       "      <td>-24</td>\n",
       "      <td>93</td>\n",
       "      <td>-61</td>\n",
       "      <td>-81</td>\n",
       "      <td>68</td>\n",
       "      <td>-68</td>\n",
       "      <td>-5</td>\n",
       "    </tr>\n",
       "    <tr>\n",
       "      <td>49</td>\n",
       "      <td>51</td>\n",
       "      <td>-38</td>\n",
       "      <td>-84</td>\n",
       "      <td>26</td>\n",
       "      <td>41</td>\n",
       "      <td>90</td>\n",
       "      <td>59</td>\n",
       "      <td>22</td>\n",
       "      <td>-24</td>\n",
       "      <td>80</td>\n",
       "      <td>73</td>\n",
       "      <td>52</td>\n",
       "      <td>-75</td>\n",
       "      <td>53</td>\n",
       "      <td>-92</td>\n",
       "      <td>25</td>\n",
       "      <td>-50</td>\n",
       "      <td>76</td>\n",
       "      <td>-44</td>\n",
       "    </tr>\n",
       "    <tr>\n",
       "      <td>-12</td>\n",
       "      <td>-17</td>\n",
       "      <td>53</td>\n",
       "      <td>31</td>\n",
       "      <td>15</td>\n",
       "      <td>55</td>\n",
       "      <td>-52</td>\n",
       "      <td>90</td>\n",
       "      <td>-93</td>\n",
       "      <td>-64</td>\n",
       "      <td>82</td>\n",
       "      <td>-12</td>\n",
       "      <td>-98</td>\n",
       "      <td>-70</td>\n",
       "      <td>-2</td>\n",
       "      <td>64</td>\n",
       "      <td>67</td>\n",
       "      <td>-87</td>\n",
       "      <td>-58</td>\n",
       "      <td>69</td>\n",
       "    </tr>\n",
       "    <tr>\n",
       "      <td>28</td>\n",
       "      <td>11</td>\n",
       "      <td>-73</td>\n",
       "      <td>37</td>\n",
       "      <td>24</td>\n",
       "      <td>100</td>\n",
       "      <td>-94</td>\n",
       "      <td>-34</td>\n",
       "      <td>-64</td>\n",
       "      <td>52</td>\n",
       "      <td>-76</td>\n",
       "      <td>-41</td>\n",
       "      <td>-67</td>\n",
       "      <td>41</td>\n",
       "      <td>-50</td>\n",
       "      <td>-38</td>\n",
       "      <td>-25</td>\n",
       "      <td>85</td>\n",
       "      <td>42</td>\n",
       "      <td>62</td>\n",
       "    </tr>\n",
       "    <tr>\n",
       "      <td>-49</td>\n",
       "      <td>-55</td>\n",
       "      <td>76</td>\n",
       "      <td>92</td>\n",
       "      <td>81</td>\n",
       "      <td>-4</td>\n",
       "      <td>66</td>\n",
       "      <td>49</td>\n",
       "      <td>-70</td>\n",
       "      <td>48</td>\n",
       "      <td>-46</td>\n",
       "      <td>-19</td>\n",
       "      <td>-22</td>\n",
       "      <td>-48</td>\n",
       "      <td>-80</td>\n",
       "      <td>50</td>\n",
       "      <td>74</td>\n",
       "      <td>-46</td>\n",
       "      <td>73</td>\n",
       "      <td>33</td>\n",
       "    </tr>\n",
       "  </tbody>\n",
       "</table>"
      ],
      "text/plain": [
       "   0   1   2   3   4    5   6   7   8   9   10   11  12  13  14  15  16  17  18  19\n",
       "0 -54 -85  -5  47  39   20 -58  24  12  13   4  -22  -1 -70  44 -30  91  -6  40 -24\n",
       "1  29  35  10 -83  48   47 -99 -69 -47  23  22  100  72 -81  32  30 -90  57  61  81\n",
       "2 -28  31 -71 -67  40   33  -8  12 -76  12  94  -71 -70 -51  95 -59  58 -30  57 -16\n",
       "3 -24 -34 -84 -56 -27  -45 -64  -9 -18  72  18   21  33  74  94  22 -31 -72  94  60\n",
       "4  17  45 -68 -76 -32   72 -10  -9  35  88  31   41  66  32  97 -15 -76 -20 -27 -84\n",
       "5  53  76 -98  12 -47   14 -34  54  72 -12 -20   56  81 -24  93 -61 -81  68 -68  -5\n",
       "6  49  51 -38 -84  26   41  90  59  22 -24  80   73  52 -75  53 -92  25 -50  76 -44\n",
       "7 -12 -17  53  31  15   55 -52  90 -93 -64  82  -12 -98 -70  -2  64  67 -87 -58  69\n",
       "8  28  11 -73  37  24  100 -94 -34 -64  52 -76  -41 -67  41 -50 -38 -25  85  42  62\n",
       "9 -49 -55  76  92  81   -4  66  49 -70  48 -46  -19 -22 -48 -80  50  74 -46  73  33"
      ]
     },
     "metadata": {},
     "output_type": "display_data"
    }
   ],
   "source": [
    "% displayDataCSV headoutput"
   ]
  }
 ],
 "metadata": {
  "kernelspec": {
   "display_name": "Common Workflow Languages",
   "language": "cwl",
   "name": "cwlkernel"
  },
  "language_info": {
   "file_extension": ".cwl",
   "mimetype": "text/x-cwl",
   "name": "yaml"
  }
 },
 "nbformat": 4,
 "nbformat_minor": 4
}
