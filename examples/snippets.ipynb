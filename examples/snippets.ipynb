{
 "cells": [
  {
   "cell_type": "markdown",
   "metadata": {},
   "source": [
    "# Append Snippets"
   ]
  },
  {
   "cell_type": "code",
   "execution_count": 1,
   "metadata": {},
   "outputs": [
    {
     "data": {
      "application/json": {
       "baseCommand": [
        "head"
       ],
       "class": "CommandLineTool",
       "cwlVersion": "v1.0",
       "id": "head"
      },
      "text/plain": [
       "<IPython.core.display.JSON object>"
      ]
     },
     "metadata": {
      "application/json": {
       "expanded": false,
       "root": "root"
      }
     },
     "output_type": "display_data"
    }
   ],
   "source": [
    "% snippet add\n",
    "class: CommandLineTool\n",
    "cwlVersion: v1.0\n",
    "id: head\n",
    "baseCommand:\n",
    "  - head"
   ]
  },
  {
   "cell_type": "code",
   "execution_count": 2,
   "metadata": {},
   "outputs": [
    {
     "data": {
      "application/json": {
       "baseCommand": [
        "head"
       ],
       "class": "CommandLineTool",
       "cwlVersion": "v1.0",
       "id": "head",
       "inputs": [
        {
         "id": "number_of_lines",
         "inputBinding": {
          "position": 0,
          "prefix": "-n"
         },
         "type": "int?"
        },
        {
         "id": "headinput",
         "inputBinding": {
          "position": 1
         },
         "type": "File"
        }
       ]
      },
      "text/plain": [
       "<IPython.core.display.JSON object>"
      ]
     },
     "metadata": {
      "application/json": {
       "expanded": false,
       "root": "root"
      }
     },
     "output_type": "display_data"
    }
   ],
   "source": [
    "% snippet add\n",
    "inputs:\n",
    "  - id: number_of_lines\n",
    "    type: int?\n",
    "    inputBinding:\n",
    "      position: 0\n",
    "      prefix: '-n'\n",
    "  - id: headinput\n",
    "    type: File\n",
    "    inputBinding:\n",
    "      position: 1"
   ]
  },
  {
   "cell_type": "code",
   "execution_count": 3,
   "metadata": {},
   "outputs": [
    {
     "data": {
      "application/json": {
       "baseCommand": [
        "head"
       ],
       "class": "CommandLineTool",
       "cwlVersion": "v1.0",
       "id": "head",
       "inputs": [
        {
         "id": "number_of_lines",
         "inputBinding": {
          "position": 0,
          "prefix": "-n"
         },
         "type": "int?"
        },
        {
         "id": "headinput",
         "inputBinding": {
          "position": 1
         },
         "type": "File"
        }
       ],
       "outputs": [
        {
         "id": "headoutput",
         "type": "stdout"
        }
       ]
      },
      "text/plain": [
       "<IPython.core.display.JSON object>"
      ]
     },
     "metadata": {
      "application/json": {
       "expanded": false,
       "root": "root"
      }
     },
     "output_type": "display_data"
    }
   ],
   "source": [
    "% snippet add\n",
    "outputs:\n",
    "  - id: headoutput\n",
    "    type: stdout"
   ]
  },
  {
   "cell_type": "code",
   "execution_count": 4,
   "metadata": {},
   "outputs": [
    {
     "data": {
      "application/json": {
       "baseCommand": [
        "head"
       ],
       "class": "CommandLineTool",
       "cwlVersion": "v1.0",
       "id": "head",
       "inputs": [
        {
         "id": "number_of_lines",
         "inputBinding": {
          "position": 0,
          "prefix": "-n"
         },
         "type": "int?"
        },
        {
         "id": "headinput",
         "inputBinding": {
          "position": 1
         },
         "type": "File"
        }
       ],
       "label": "head",
       "outputs": [
        {
         "id": "headoutput",
         "type": "stdout"
        }
       ],
       "stdout": "head.out"
      },
      "text/plain": [
       "<IPython.core.display.JSON object>"
      ]
     },
     "metadata": {
      "application/json": {
       "expanded": false,
       "root": "root"
      }
     },
     "output_type": "display_data"
    }
   ],
   "source": [
    "% snippet build\n",
    "label: head\n",
    "stdout: head.out"
   ]
  },
  {
   "cell_type": "code",
   "execution_count": 5,
   "metadata": {},
   "outputs": [
    {
     "name": "stdout",
     "output_type": "stream",
     "text": [
      "Add data in memory"
     ]
    },
    {
     "data": {
      "application/json": {
       "headoutput": {
        "basename": "head.out",
        "checksum": "sha1$728aa6b07e4a63f29b8ab55af49609d84c8482e1",
        "class": "File",
        "http://commonwl.org/cwltool#generation": 0,
        "id": "headoutput",
        "location": "file:///private/tmp/CWLKERNEL_DATA/runtime_data/head.out",
        "nameext": ".out",
        "nameroot": "head",
        "size": 656
       }
      },
      "text/plain": [
       "<IPython.core.display.JSON object>"
      ]
     },
     "metadata": {
      "application/json": {
       "expanded": false,
       "root": "root"
      }
     },
     "output_type": "display_data"
    }
   ],
   "source": [
    "% execute head\n",
    "headinput:\n",
    "    class: File\n",
    "    location: /Users/dks/Desktop/data.csv"
   ]
  }
 ],
 "metadata": {
  "kernelspec": {
   "display_name": "Common Workflow Languages",
   "language": "cwl",
   "name": "cwlkernel"
  },
  "language_info": {
   "file_extension": ".cwl",
   "mimetype": "text/x-cwl",
   "name": "yaml"
  }
 },
 "nbformat": 4,
 "nbformat_minor": 4
}
