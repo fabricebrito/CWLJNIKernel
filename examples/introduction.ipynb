{
 "cells": [
  {
   "cell_type": "markdown",
   "metadata": {},
   "source": [
    "# Common Workflow Language - Jupyter Notebook Kernel"
   ]
  },
  {
   "cell_type": "markdown",
   "metadata": {},
   "source": [
    "This is an implementation of Jupyter Notebook Kernel which enable to execute Common Workflow Language. In these examples, we show to execute the examples from [Common Workflow Language User Guide](https://www.commonwl.org/user_guide/) by using CWLJNKernel. \n",
    "\n",
    "## Installation\n",
    "\n",
    "To install CWLJNKernel run \n",
    "```bash\n",
    "$ pip install requirements.txt\n",
    "$ python setup.py install\n",
    "```"
   ]
  },
  {
   "cell_type": "markdown",
   "metadata": {},
   "source": [
    "## [First Example](https://www.commonwl.org/user_guide/02-1st-example/index.html)"
   ]
  },
  {
   "cell_type": "markdown",
   "metadata": {},
   "source": [
    "The first example is a simple hello world workflow. To execute it first we have to send the workflow. The workflow is stored in the kernels sessions repository."
   ]
  },
  {
   "cell_type": "code",
   "execution_count": 1,
   "metadata": {},
   "outputs": [
    {
     "name": "stdout",
     "output_type": "stream",
     "text": [
      "tool 'echo' registered"
     ]
    }
   ],
   "source": [
    "#!/usr/bin/env cwl-runner\n",
    "\n",
    "cwlVersion: v1.0\n",
    "class: CommandLineTool\n",
    "baseCommand: echo\n",
    "id: echo\n",
    "inputs:\n",
    "  message:\n",
    "    type: string\n",
    "    inputBinding:\n",
    "      position: 1\n",
    "outputs:\n",
    "  example_output:\n",
    "    type: stdout"
   ]
  },
  {
   "cell_type": "markdown",
   "metadata": {},
   "source": [
    "Then we have to set the input parameters for the workflow and to execute it"
   ]
  },
  {
   "cell_type": "code",
   "execution_count": 2,
   "metadata": {},
   "outputs": [
    {
     "name": "stdout",
     "output_type": "stream",
     "text": [
      "Add data in memory"
     ]
    },
    {
     "data": {
      "application/json": {
       "example_output": {
        "basename": "5538d0432cbfef0e2055789bee18eb61d7e6317c",
        "checksum": "sha1$47a013e660d408619d894b20806b1d5086aab03b",
        "class": "File",
        "http://commonwl.org/cwltool#generation": 0,
        "id": "example_output",
        "location": "file:///private/tmp/CWLKERNEL_DATA/runtime_data/5538d0432cbfef0e2055789bee18eb61d7e6317c",
        "nameext": "",
        "nameroot": "5538d0432cbfef0e2055789bee18eb61d7e6317c",
        "size": 13
       }
      },
      "text/plain": [
       "<IPython.core.display.JSON object>"
      ]
     },
     "metadata": {
      "application/json": {
       "expanded": false,
       "root": "root"
      }
     },
     "output_type": "display_data"
    }
   ],
   "source": [
    "% execute echo\n",
    "message: Hello world!"
   ]
  },
  {
   "cell_type": "code",
   "execution_count": 4,
   "metadata": {},
   "outputs": [
    {
     "name": "stdout",
     "output_type": "stream",
     "text": [
      "ERROR: you must select an output to display. Correct format:\n",
      " % display_data [output name]"
     ]
    }
   ],
   "source": [
    "% display_data example_output"
   ]
  }
 ],
 "metadata": {
  "kernelspec": {
   "display_name": "Common Workflow Languages",
   "language": "cwl",
   "name": "cwlkernel"
  },
  "language_info": {
   "file_extension": ".cwl",
   "mimetype": "text/x-cwl",
   "name": "yaml"
  }
 },
 "nbformat": 4,
 "nbformat_minor": 4
}
