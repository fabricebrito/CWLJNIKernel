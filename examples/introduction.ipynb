{
 "cells": [
  {
   "cell_type": "markdown",
   "metadata": {},
   "source": [
    "# Common Workflow Language - Jupyter Notebook Kernel"
   ]
  },
  {
   "cell_type": "markdown",
   "metadata": {},
   "source": [
    "This is an implementation of Jupyter Notebook Kernel which enable to execute Common Workflow Language. In these examples, we show to execute the examples from [Common Workflow Language User Guide](https://www.commonwl.org/user_guide/) by using CWLJNKernel. \n",
    "\n",
    "## Installation\n",
    "\n",
    "To install CWLJNKernel run \n",
    "```bash\n",
    "$ pip install requirements.txt\n",
    "$ python setup.py install\n",
    "```"
   ]
  },
  {
   "cell_type": "markdown",
   "metadata": {},
   "source": [
    "## [First Example](https://www.commonwl.org/user_guide/02-1st-example/index.html)"
   ]
  },
  {
   "cell_type": "markdown",
   "metadata": {},
   "source": [
    "The first example is a simple hello world workflow. To execute it first we have to send the workflow. The workflow is stored in the kernels sessions repository."
   ]
  },
  {
   "cell_type": "code",
   "execution_count": 1,
   "metadata": {},
   "outputs": [
    {
     "name": "stdout",
     "output_type": "stream",
     "text": [
      "tool 'echo' registered"
     ]
    }
   ],
   "source": [
    "#!/usr/bin/env cwl-runner\n",
    "\n",
    "cwlVersion: v1.1\n",
    "class: CommandLineTool\n",
    "baseCommand: echo\n",
    "id: echo\n",
    "inputs:\n",
    "  message:\n",
    "    type: string\n",
    "    inputBinding:\n",
    "      position: 1\n",
    "outputs:\n",
    "  example_output:\n",
    "    type: stdout"
   ]
  },
  {
   "cell_type": "markdown",
   "metadata": {},
   "source": [
    "Then we have to set the input parameters for the workflow and to execute it"
   ]
  },
  {
   "cell_type": "code",
   "execution_count": 2,
   "metadata": {},
   "outputs": [
    {
     "name": "stdout",
     "output_type": "stream",
     "text": [
      "Add data in memory"
     ]
    },
    {
     "data": {
      "application/json": {
       "example_output": {
        "basename": "dea13d39e960dfdad075c55ea61ed207dcada01d",
        "checksum": "sha1$47a013e660d408619d894b20806b1d5086aab03b",
        "class": "File",
        "http://commonwl.org/cwltool#generation": 0,
        "id": "example_output",
        "location": "file:///private/tmp/CWLKERNEL_DATA/2bd19feb-6520-446d-be42-54c64fde5cd9/runtime_data/dea13d39e960dfdad075c55ea61ed207dcada01d",
        "nameext": "",
        "nameroot": "dea13d39e960dfdad075c55ea61ed207dcada01d",
        "result_counter": 0,
        "size": 13
       }
      },
      "text/plain": [
       "{\"example_output\": {\"location\": \"file:///private/tmp/CWLKERNEL_DATA/2bd19feb-6520-446d-be42-54c64fde5cd9/runtime_data/dea13d39e960dfdad075c55ea61ed207dcada01d\", \"basename\": \"dea13d39e960dfdad075c55ea61ed207dcada01d\", \"nameroot\": \"dea13d39e960dfdad075c55ea61ed207dcada01d\", \"nameext\": \"\", \"class\": \"File\", \"checksum\": \"sha1$47a013e660d408619d894b20806b1d5086aab03b\", \"size\": 13, \"http://commonwl.org/cwltool#generation\": 0, \"id\": \"example_output\", \"result_counter\": 0}}"
      ]
     },
     "metadata": {
      "application/json": {
       "expanded": false,
       "root": "root"
      }
     },
     "output_type": "display_data"
    }
   ],
   "source": [
    "% execute echo\n",
    "message: Hello world!"
   ]
  },
  {
   "cell_type": "code",
   "execution_count": 2,
   "metadata": {},
   "outputs": [
    {
     "name": "stdout",
     "output_type": "stream",
     "text": [
      "Add data in memory"
     ]
    },
    {
     "data": {
      "application/json": {
       "example_output": {
        "basename": "07d090896bde77c6d2de664ba9d9e32dd23c4133",
        "checksum": "sha1$47a013e660d408619d894b20806b1d5086aab03b",
        "class": "File",
        "http://commonwl.org/cwltool#generation": 0,
        "id": "example_output",
        "location": "file:///private/tmp/CWLKERNEL_DATA/3991bf77-e2c9-41a9-ad5a-028113e1d2a3/runtime_data/07d090896bde77c6d2de664ba9d9e32dd23c4133",
        "nameext": "",
        "nameroot": "07d090896bde77c6d2de664ba9d9e32dd23c4133",
        "result_counter": 0,
        "size": 13
       }
      },
      "text/plain": [
       "{\"example_output\": {\"location\": \"file:///private/tmp/CWLKERNEL_DATA/3991bf77-e2c9-41a9-ad5a-028113e1d2a3/runtime_data/07d090896bde77c6d2de664ba9d9e32dd23c4133\", \"basename\": \"07d090896bde77c6d2de664ba9d9e32dd23c4133\", \"nameroot\": \"07d090896bde77c6d2de664ba9d9e32dd23c4133\", \"nameext\": \"\", \"class\": \"File\", \"checksum\": \"sha1$47a013e660d408619d894b20806b1d5086aab03b\", \"size\": 13, \"http://commonwl.org/cwltool#generation\": 0, \"id\": \"example_output\", \"result_counter\": 0}}"
      ]
     },
     "metadata": {
      "application/json": {
       "expanded": false,
       "root": "root"
      }
     },
     "output_type": "display_data"
    },
    {
     "name": "stdout",
     "output_type": "stream",
     "text": [
      "\n",
      "Provenance Stores in directory /Users/dks/Workspaces/CWLKernel/examples/provenance\n",
      ": "
     ]
    },
    {
     "data": {
      "text/html": [
       "<a href=\"/files/provenance/bagit.txt\">provenance/bagit.txt</a>"
      ],
      "text/plain": [
       "full path...."
      ]
     },
     "metadata": {},
     "output_type": "display_data"
    },
    {
     "data": {
      "text/html": [
       "<a href=\"/files/provenance/bag-info.txt\">provenance/bag-info.txt</a>"
      ],
      "text/plain": [
       "full path...."
      ]
     },
     "metadata": {},
     "output_type": "display_data"
    },
    {
     "data": {
      "text/html": [
       "<a href=\"/files/provenance/manifest-sha1.txt\">provenance/manifest-sha1.txt</a>"
      ],
      "text/plain": [
       "full path...."
      ]
     },
     "metadata": {},
     "output_type": "display_data"
    },
    {
     "data": {
      "text/html": [
       "<a href=\"/files/provenance/tagmanifest-sha256.txt\">provenance/tagmanifest-sha256.txt</a>"
      ],
      "text/plain": [
       "full path...."
      ]
     },
     "metadata": {},
     "output_type": "display_data"
    },
    {
     "data": {
      "text/html": [
       "<a href=\"/files/provenance/tagmanifest-sha1.txt\">provenance/tagmanifest-sha1.txt</a>"
      ],
      "text/plain": [
       "full path...."
      ]
     },
     "metadata": {},
     "output_type": "display_data"
    },
    {
     "data": {
      "text/html": [
       "<a href=\"/files/provenance/tagmanifest-sha512.txt\">provenance/tagmanifest-sha512.txt</a>"
      ],
      "text/plain": [
       "full path...."
      ]
     },
     "metadata": {},
     "output_type": "display_data"
    },
    {
     "data": {
      "text/html": [
       "<a href=\"/files/provenance/snapshot/echo.cwl\">provenance/snapshot/echo.cwl</a>"
      ],
      "text/plain": [
       "full path...."
      ]
     },
     "metadata": {},
     "output_type": "display_data"
    },
    {
     "data": {
      "text/html": [
       "<a href=\"/files/provenance/workflow/primary-job.json\">provenance/workflow/primary-job.json</a>"
      ],
      "text/plain": [
       "full path...."
      ]
     },
     "metadata": {},
     "output_type": "display_data"
    },
    {
     "data": {
      "text/html": [
       "<a href=\"/files/provenance/workflow/primary-output.json\">provenance/workflow/primary-output.json</a>"
      ],
      "text/plain": [
       "full path...."
      ]
     },
     "metadata": {},
     "output_type": "display_data"
    },
    {
     "data": {
      "text/html": [
       "<a href=\"/files/provenance/data/d3/d3486ae9136e7856bc42212385ea797094475802\">provenance/data/d3/d3486ae9136e7856bc42212385ea797094475802</a>"
      ],
      "text/plain": [
       "full path...."
      ]
     },
     "metadata": {},
     "output_type": "display_data"
    },
    {
     "data": {
      "text/html": [
       "<a href=\"/files/provenance/data/47/47a013e660d408619d894b20806b1d5086aab03b\">provenance/data/47/47a013e660d408619d894b20806b1d5086aab03b</a>"
      ],
      "text/plain": [
       "full path...."
      ]
     },
     "metadata": {},
     "output_type": "display_data"
    },
    {
     "data": {
      "text/html": [
       "<a href=\"/files/provenance/metadata/manifest.json\">provenance/metadata/manifest.json</a>"
      ],
      "text/plain": [
       "full path...."
      ]
     },
     "metadata": {},
     "output_type": "display_data"
    },
    {
     "data": {
      "text/html": [
       "<a href=\"/files/provenance/metadata/logs/engine.6b9569de-e707-489e-afa7-518292f93e87.txt\">provenance/metadata/logs/engine.6b9569de-e707-489e-afa7-518292f93e87.txt</a>"
      ],
      "text/plain": [
       "full path...."
      ]
     },
     "metadata": {},
     "output_type": "display_data"
    },
    {
     "data": {
      "text/html": [
       "<a href=\"/files/provenance/metadata/provenance/primary.cwlprov.jsonld\">provenance/metadata/provenance/primary.cwlprov.jsonld</a>"
      ],
      "text/plain": [
       "full path...."
      ]
     },
     "metadata": {},
     "output_type": "display_data"
    },
    {
     "data": {
      "text/html": [
       "<a href=\"/files/provenance/metadata/provenance/primary.cwlprov.json\">provenance/metadata/provenance/primary.cwlprov.json</a>"
      ],
      "text/plain": [
       "full path...."
      ]
     },
     "metadata": {},
     "output_type": "display_data"
    },
    {
     "data": {
      "text/html": [
       "<a href=\"/files/provenance/metadata/provenance/primary.cwlprov.xml\">provenance/metadata/provenance/primary.cwlprov.xml</a>"
      ],
      "text/plain": [
       "full path...."
      ]
     },
     "metadata": {},
     "output_type": "display_data"
    },
    {
     "data": {
      "text/html": [
       "<a href=\"/files/provenance/metadata/provenance/primary.cwlprov.nt\">provenance/metadata/provenance/primary.cwlprov.nt</a>"
      ],
      "text/plain": [
       "full path...."
      ]
     },
     "metadata": {},
     "output_type": "display_data"
    },
    {
     "data": {
      "text/html": [
       "<a href=\"/files/provenance/metadata/provenance/primary.cwlprov.ttl\">provenance/metadata/provenance/primary.cwlprov.ttl</a>"
      ],
      "text/plain": [
       "full path...."
      ]
     },
     "metadata": {},
     "output_type": "display_data"
    },
    {
     "data": {
      "text/html": [
       "<a href=\"/files/provenance/metadata/provenance/primary.cwlprov.provn\">provenance/metadata/provenance/primary.cwlprov.provn</a>"
      ],
      "text/plain": [
       "full path...."
      ]
     },
     "metadata": {},
     "output_type": "display_data"
    }
   ],
   "source": [
    "% executeWithProvenance echo\n",
    "message: Hello world!"
   ]
  },
  {
   "cell_type": "code",
   "execution_count": 3,
   "metadata": {},
   "outputs": [
    {
     "name": "stdout",
     "output_type": "stream",
     "text": [
      "List of Available Magic commands\n",
      "\t- data\n",
      "\t- displayData\n",
      "\t- displayDataCSV\n",
      "\t- displayDataImage\n",
      "\t- execute\n",
      "\t- githubImport\n",
      "\t- logs\n",
      "\t- magics\n",
      "\t- newWorkflow\n",
      "\t- newWorkflowAddInput\n",
      "\t- newWorkflowAddOutputSource\n",
      "\t- newWorkflowAddStep\n",
      "\t- newWorkflowAddStepIn\n",
      "\t- newWorkflowBuild\n",
      "\t- sampleCSV\n",
      "\t- snippet\n",
      "\t- viewTool"
     ]
    }
   ],
   "source": [
    "% magics"
   ]
  },
  {
   "cell_type": "code",
   "execution_count": 4,
   "metadata": {},
   "outputs": [
    {
     "name": "stdout",
     "output_type": "stream",
     "text": [
      "Display the data generated by workflow.\n",
      "Usage % displayData [data id]"
     ]
    }
   ],
   "source": [
    "% magics display_data"
   ]
  },
  {
   "cell_type": "code",
   "execution_count": 5,
   "metadata": {},
   "outputs": [
    {
     "name": "stdout",
     "output_type": "stream",
     "text": [
      "Hello world!\n"
     ]
    }
   ],
   "source": [
    "% displayData example_output"
   ]
  }
 ],
 "metadata": {
  "kernelspec": {
   "display_name": "Common Workflow Languages",
   "language": "cwl",
   "name": "cwlkernel"
  },
  "language_info": {
   "file_extension": ".cwl",
   "mimetype": "text/x-cwl",
   "name": "yaml"
  }
 },
 "nbformat": 4,
 "nbformat_minor": 4
}
