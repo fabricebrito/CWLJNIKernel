{
 "cells": [
  {
   "cell_type": "markdown",
   "metadata": {},
   "source": [
    "# Common Workflow Language - Jupyter Notebook Kernel"
   ]
  },
  {
   "cell_type": "markdown",
   "metadata": {},
   "source": [
    "## [Advanced Inputs](https://www.commonwl.org/user_guide/11-records/index.html)"
   ]
  },
  {
   "cell_type": "code",
   "execution_count": 1,
   "metadata": {},
   "outputs": [
    {
     "name": "stdout",
     "output_type": "stream",
     "text": [
      "tool 'advanced-inputs' registered"
     ]
    }
   ],
   "source": [
    "#!/usr/bin/env cwl-runner\n",
    "\n",
    "cwlVersion: v1.0\n",
    "id: advanced-inputs\n",
    "class: CommandLineTool\n",
    "inputs:\n",
    "  dependent_parameters:\n",
    "    type:\n",
    "      type: record\n",
    "      name: dependent_parameters\n",
    "      fields:\n",
    "        itemA:\n",
    "          type: string\n",
    "          inputBinding:\n",
    "            prefix: -A\n",
    "        itemB:\n",
    "          type: string\n",
    "          inputBinding:\n",
    "            prefix: -B\n",
    "  exclusive_parameters:\n",
    "    type:\n",
    "      - type: record\n",
    "        name: itemC\n",
    "        fields:\n",
    "          itemC:\n",
    "            type: string\n",
    "            inputBinding:\n",
    "              prefix: -C\n",
    "      - type: record\n",
    "        name: itemD\n",
    "        fields:\n",
    "          itemD:\n",
    "            type: string\n",
    "            inputBinding:\n",
    "              prefix: -D\n",
    "outputs:\n",
    "  example_out:\n",
    "    type: stdout\n",
    "stdout: output.txt\n",
    "baseCommand: echo"
   ]
  },
  {
   "cell_type": "code",
   "execution_count": 2,
   "metadata": {},
   "outputs": [
    {
     "name": "stdout",
     "output_type": "stream",
     "text": [
      "Add data in memory"
     ]
    },
    {
     "data": {
      "application/json": {
       "example_out": {
        "basename": "output.txt",
        "checksum": "sha1$329fe3b598fed0dfd40f511522eaf386edb2d077",
        "class": "File",
        "http://commonwl.org/cwltool#generation": 0,
        "id": "example_out",
        "location": "file:///private/tmp/CWLKERNEL_DATA/15da8f34-c1b3-43d8-8c49-dd040f5a5eb0/runtime_data/output.txt",
        "nameext": ".txt",
        "nameroot": "output",
        "result_counter": 0,
        "size": 23
       }
      },
      "text/plain": [
       "{\"example_out\": {\"location\": \"file:///private/tmp/CWLKERNEL_DATA/15da8f34-c1b3-43d8-8c49-dd040f5a5eb0/runtime_data/output.txt\", \"basename\": \"output.txt\", \"nameroot\": \"output\", \"nameext\": \".txt\", \"class\": \"File\", \"checksum\": \"sha1$329fe3b598fed0dfd40f511522eaf386edb2d077\", \"size\": 23, \"http://commonwl.org/cwltool#generation\": 0, \"id\": \"example_out\", \"result_counter\": 0}}"
      ]
     },
     "metadata": {
      "application/json": {
       "expanded": false,
       "root": "root"
      }
     },
     "output_type": "display_data"
    }
   ],
   "source": [
    "% execute advanced-inputs\n",
    "dependent_parameters:\n",
    "  itemA: one\n",
    "  itemB: two\n",
    "exclusive_parameters:\n",
    "  itemC: three\n",
    "  itemD: four"
   ]
  }
 ],
 "metadata": {
  "kernelspec": {
   "display_name": "Common Workflow Languages",
   "language": "cwl",
   "name": "cwlkernel"
  },
  "language_info": {
   "file_extension": ".cwl",
   "mimetype": "text/x-cwl",
   "name": "yaml"
  }
 },
 "nbformat": 4,
 "nbformat_minor": 4
}
