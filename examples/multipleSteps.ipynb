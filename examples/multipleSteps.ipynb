{
 "cells": [
  {
   "cell_type": "markdown",
   "metadata": {},
   "source": [
    "# Execute Multiple Steps"
   ]
  },
  {
   "cell_type": "markdown",
   "metadata": {},
   "source": [
    "Here we present an example on how to execute a workflow step by step. In the presented example the workflows will be added as YAML files and then we will use the execute magic command to execute them and link the data between them.\n",
    "\n",
    "> For the examples I suggest to use Jupyter Lab instead of Notebook :) "
   ]
  },
  {
   "cell_type": "markdown",
   "metadata": {},
   "source": [
    "Firstly, we register the tools."
   ]
  },
  {
   "cell_type": "code",
   "execution_count": 1,
   "metadata": {},
   "outputs": [
    {
     "name": "stdout",
     "output_type": "stream",
     "text": [
      "tool 'head' registered"
     ]
    }
   ],
   "source": [
    "class: CommandLineTool\n",
    "cwlVersion: v1.1\n",
    "id: head\n",
    "baseCommand:\n",
    "  - head\n",
    "inputs:\n",
    "  - id: number_of_lines\n",
    "    type: int?\n",
    "    inputBinding:\n",
    "      position: 0\n",
    "      prefix: '-n'\n",
    "  - id: headinput\n",
    "    type: File\n",
    "    inputBinding:\n",
    "      position: 1\n",
    "outputs:\n",
    "  - id: headoutput\n",
    "    type: stdout\n",
    "label: head\n",
    "stdout: head1.out"
   ]
  },
  {
   "cell_type": "code",
   "execution_count": 2,
   "metadata": {},
   "outputs": [
    {
     "name": "stdout",
     "output_type": "stream",
     "text": [
      "tool 'tail' registered"
     ]
    }
   ],
   "source": [
    "class: CommandLineTool\n",
    "cwlVersion: v1.1\n",
    "id: tail\n",
    "baseCommand:\n",
    "  - tail\n",
    "inputs:\n",
    "  - id: number_of_lines\n",
    "    type: int?\n",
    "    inputBinding:\n",
    "      position: 0\n",
    "      prefix: '-n'\n",
    "  - id: tailinput\n",
    "    type: File\n",
    "    inputBinding:\n",
    "      position: 1\n",
    "outputs:\n",
    "  - id: tailoutput\n",
    "    type: stdout\n",
    "label: tail\n",
    "stdout: tail.out"
   ]
  },
  {
   "cell_type": "markdown",
   "metadata": {},
   "source": [
    "Now we can execute the tools. With the execute magic command.\n",
    "\n",
    "> The kernel supports auto-complete on magic commands for some of them for their arguments. If you want to see the auto-complete feature try to write the `% ` or write `% execute ` and then press tab. "
   ]
  },
  {
   "cell_type": "code",
   "execution_count": 3,
   "metadata": {},
   "outputs": [
    {
     "name": "stdout",
     "output_type": "stream",
     "text": [
      "Add data in memory"
     ]
    },
    {
     "data": {
      "application/json": {
       "headoutput": {
        "_produced_by": "head",
        "basename": "head1.out",
        "checksum": "sha1$e186f07099395040cf9d83ff1eb0a5dad4801937",
        "class": "File",
        "http://commonwl.org/cwltool#generation": 0,
        "id": "headoutput",
        "location": "file:///private/tmp/CWLKERNEL_DATA/35356b59-f7d1-48c0-86f4-38443d1f004f/runtime_data/head1.out",
        "nameext": ".out",
        "nameroot": "head1",
        "result_counter": 0,
        "size": 688
       }
      },
      "text/plain": [
       "{\"headoutput\": {\"location\": \"file:///private/tmp/CWLKERNEL_DATA/35356b59-f7d1-48c0-86f4-38443d1f004f/runtime_data/head1.out\", \"basename\": \"head1.out\", \"nameroot\": \"head1\", \"nameext\": \".out\", \"class\": \"File\", \"checksum\": \"sha1$e186f07099395040cf9d83ff1eb0a5dad4801937\", \"size\": 688, \"http://commonwl.org/cwltool#generation\": 0, \"_produced_by\": \"head\", \"id\": \"headoutput\", \"result_counter\": 0}}"
      ]
     },
     "metadata": {
      "application/json": {
       "expanded": false,
       "root": "root"
      }
     },
     "output_type": "display_data"
    }
   ],
   "source": [
    "% execute head\n",
    "headinput:\n",
    "    class: File\n",
    "    location: /Users/dks/Workspaces/CWLKernel/tests/input_data/data.csv\n",
    "number_of_lines: 10"
   ]
  },
  {
   "cell_type": "code",
   "execution_count": 4,
   "metadata": {},
   "outputs": [
    {
     "data": {
      "text/html": [
       "<table border=\"1\" class=\"dataframe\">\n",
       "  <thead>\n",
       "    <tr style=\"text-align: right;\">\n",
       "      <th>0</th>\n",
       "      <th>1</th>\n",
       "      <th>2</th>\n",
       "      <th>3</th>\n",
       "      <th>4</th>\n",
       "      <th>5</th>\n",
       "      <th>6</th>\n",
       "      <th>7</th>\n",
       "      <th>8</th>\n",
       "      <th>9</th>\n",
       "      <th>10</th>\n",
       "      <th>11</th>\n",
       "      <th>12</th>\n",
       "      <th>13</th>\n",
       "      <th>14</th>\n",
       "      <th>15</th>\n",
       "      <th>16</th>\n",
       "      <th>17</th>\n",
       "      <th>18</th>\n",
       "      <th>19</th>\n",
       "    </tr>\n",
       "  </thead>\n",
       "  <tbody>\n",
       "    <tr>\n",
       "      <td>-54</td>\n",
       "      <td>-85</td>\n",
       "      <td>-5</td>\n",
       "      <td>47</td>\n",
       "      <td>39</td>\n",
       "      <td>20</td>\n",
       "      <td>-58</td>\n",
       "      <td>24</td>\n",
       "      <td>12</td>\n",
       "      <td>13</td>\n",
       "      <td>4</td>\n",
       "      <td>-22</td>\n",
       "      <td>-1</td>\n",
       "      <td>-70</td>\n",
       "      <td>44</td>\n",
       "      <td>-30</td>\n",
       "      <td>91</td>\n",
       "      <td>-6</td>\n",
       "      <td>40</td>\n",
       "      <td>-24</td>\n",
       "    </tr>\n",
       "    <tr>\n",
       "      <td>29</td>\n",
       "      <td>35</td>\n",
       "      <td>10</td>\n",
       "      <td>-83</td>\n",
       "      <td>48</td>\n",
       "      <td>47</td>\n",
       "      <td>-99</td>\n",
       "      <td>-69</td>\n",
       "      <td>-47</td>\n",
       "      <td>23</td>\n",
       "      <td>22</td>\n",
       "      <td>100</td>\n",
       "      <td>72</td>\n",
       "      <td>-81</td>\n",
       "      <td>32</td>\n",
       "      <td>30</td>\n",
       "      <td>-90</td>\n",
       "      <td>57</td>\n",
       "      <td>61</td>\n",
       "      <td>81</td>\n",
       "    </tr>\n",
       "    <tr>\n",
       "      <td>-28</td>\n",
       "      <td>31</td>\n",
       "      <td>-71</td>\n",
       "      <td>-67</td>\n",
       "      <td>40</td>\n",
       "      <td>33</td>\n",
       "      <td>-8</td>\n",
       "      <td>12</td>\n",
       "      <td>-76</td>\n",
       "      <td>12</td>\n",
       "      <td>94</td>\n",
       "      <td>-71</td>\n",
       "      <td>-70</td>\n",
       "      <td>-51</td>\n",
       "      <td>95</td>\n",
       "      <td>-59</td>\n",
       "      <td>58</td>\n",
       "      <td>-30</td>\n",
       "      <td>57</td>\n",
       "      <td>-16</td>\n",
       "    </tr>\n",
       "    <tr>\n",
       "      <td>-24</td>\n",
       "      <td>-34</td>\n",
       "      <td>-84</td>\n",
       "      <td>-56</td>\n",
       "      <td>-27</td>\n",
       "      <td>-45</td>\n",
       "      <td>-64</td>\n",
       "      <td>-9</td>\n",
       "      <td>-18</td>\n",
       "      <td>72</td>\n",
       "      <td>18</td>\n",
       "      <td>21</td>\n",
       "      <td>33</td>\n",
       "      <td>74</td>\n",
       "      <td>94</td>\n",
       "      <td>22</td>\n",
       "      <td>-31</td>\n",
       "      <td>-72</td>\n",
       "      <td>94</td>\n",
       "      <td>60</td>\n",
       "    </tr>\n",
       "    <tr>\n",
       "      <td>17</td>\n",
       "      <td>45</td>\n",
       "      <td>-68</td>\n",
       "      <td>-76</td>\n",
       "      <td>-32</td>\n",
       "      <td>72</td>\n",
       "      <td>-10</td>\n",
       "      <td>-9</td>\n",
       "      <td>35</td>\n",
       "      <td>88</td>\n",
       "      <td>31</td>\n",
       "      <td>41</td>\n",
       "      <td>66</td>\n",
       "      <td>32</td>\n",
       "      <td>97</td>\n",
       "      <td>-15</td>\n",
       "      <td>-76</td>\n",
       "      <td>-20</td>\n",
       "      <td>-27</td>\n",
       "      <td>-84</td>\n",
       "    </tr>\n",
       "    <tr>\n",
       "      <td>53</td>\n",
       "      <td>76</td>\n",
       "      <td>-98</td>\n",
       "      <td>12</td>\n",
       "      <td>-47</td>\n",
       "      <td>14</td>\n",
       "      <td>-34</td>\n",
       "      <td>54</td>\n",
       "      <td>72</td>\n",
       "      <td>-12</td>\n",
       "      <td>-20</td>\n",
       "      <td>56</td>\n",
       "      <td>81</td>\n",
       "      <td>-24</td>\n",
       "      <td>93</td>\n",
       "      <td>-61</td>\n",
       "      <td>-81</td>\n",
       "      <td>68</td>\n",
       "      <td>-68</td>\n",
       "      <td>-5</td>\n",
       "    </tr>\n",
       "    <tr>\n",
       "      <td>49</td>\n",
       "      <td>51</td>\n",
       "      <td>-38</td>\n",
       "      <td>-84</td>\n",
       "      <td>26</td>\n",
       "      <td>41</td>\n",
       "      <td>90</td>\n",
       "      <td>59</td>\n",
       "      <td>22</td>\n",
       "      <td>-24</td>\n",
       "      <td>80</td>\n",
       "      <td>73</td>\n",
       "      <td>52</td>\n",
       "      <td>-75</td>\n",
       "      <td>53</td>\n",
       "      <td>-92</td>\n",
       "      <td>25</td>\n",
       "      <td>-50</td>\n",
       "      <td>76</td>\n",
       "      <td>-44</td>\n",
       "    </tr>\n",
       "    <tr>\n",
       "      <td>-12</td>\n",
       "      <td>-17</td>\n",
       "      <td>53</td>\n",
       "      <td>31</td>\n",
       "      <td>15</td>\n",
       "      <td>55</td>\n",
       "      <td>-52</td>\n",
       "      <td>90</td>\n",
       "      <td>-93</td>\n",
       "      <td>-64</td>\n",
       "      <td>82</td>\n",
       "      <td>-12</td>\n",
       "      <td>-98</td>\n",
       "      <td>-70</td>\n",
       "      <td>-2</td>\n",
       "      <td>64</td>\n",
       "      <td>67</td>\n",
       "      <td>-87</td>\n",
       "      <td>-58</td>\n",
       "      <td>69</td>\n",
       "    </tr>\n",
       "    <tr>\n",
       "      <td>28</td>\n",
       "      <td>11</td>\n",
       "      <td>-73</td>\n",
       "      <td>37</td>\n",
       "      <td>24</td>\n",
       "      <td>100</td>\n",
       "      <td>-94</td>\n",
       "      <td>-34</td>\n",
       "      <td>-64</td>\n",
       "      <td>52</td>\n",
       "      <td>-76</td>\n",
       "      <td>-41</td>\n",
       "      <td>-67</td>\n",
       "      <td>41</td>\n",
       "      <td>-50</td>\n",
       "      <td>-38</td>\n",
       "      <td>-25</td>\n",
       "      <td>85</td>\n",
       "      <td>42</td>\n",
       "      <td>62</td>\n",
       "    </tr>\n",
       "    <tr>\n",
       "      <td>-49</td>\n",
       "      <td>-55</td>\n",
       "      <td>76</td>\n",
       "      <td>92</td>\n",
       "      <td>81</td>\n",
       "      <td>-4</td>\n",
       "      <td>66</td>\n",
       "      <td>49</td>\n",
       "      <td>-70</td>\n",
       "      <td>48</td>\n",
       "      <td>-46</td>\n",
       "      <td>-19</td>\n",
       "      <td>-22</td>\n",
       "      <td>-48</td>\n",
       "      <td>-80</td>\n",
       "      <td>50</td>\n",
       "      <td>74</td>\n",
       "      <td>-46</td>\n",
       "      <td>73</td>\n",
       "      <td>33</td>\n",
       "    </tr>\n",
       "  </tbody>\n",
       "</table>"
      ],
      "text/plain": [
       "   0   1   2   3   4    5   6   7   8   9   10   11  12  13  14  15  16  17  18  19\n",
       "0 -54 -85  -5  47  39   20 -58  24  12  13   4  -22  -1 -70  44 -30  91  -6  40 -24\n",
       "1  29  35  10 -83  48   47 -99 -69 -47  23  22  100  72 -81  32  30 -90  57  61  81\n",
       "2 -28  31 -71 -67  40   33  -8  12 -76  12  94  -71 -70 -51  95 -59  58 -30  57 -16\n",
       "3 -24 -34 -84 -56 -27  -45 -64  -9 -18  72  18   21  33  74  94  22 -31 -72  94  60\n",
       "4  17  45 -68 -76 -32   72 -10  -9  35  88  31   41  66  32  97 -15 -76 -20 -27 -84\n",
       "5  53  76 -98  12 -47   14 -34  54  72 -12 -20   56  81 -24  93 -61 -81  68 -68  -5\n",
       "6  49  51 -38 -84  26   41  90  59  22 -24  80   73  52 -75  53 -92  25 -50  76 -44\n",
       "7 -12 -17  53  31  15   55 -52  90 -93 -64  82  -12 -98 -70  -2  64  67 -87 -58  69\n",
       "8  28  11 -73  37  24  100 -94 -34 -64  52 -76  -41 -67  41 -50 -38 -25  85  42  62\n",
       "9 -49 -55  76  92  81   -4  66  49 -70  48 -46  -19 -22 -48 -80  50  74 -46  73  33"
      ]
     },
     "metadata": {},
     "output_type": "display_data"
    }
   ],
   "source": [
    "% displayDataCSV headoutput"
   ]
  },
  {
   "cell_type": "code",
   "execution_count": 5,
   "metadata": {},
   "outputs": [
    {
     "name": "stdout",
     "output_type": "stream",
     "text": [
      "set data to:\n"
     ]
    },
    {
     "data": {
      "application/json": {
       "number_of_lines": 5,
       "tailinput": {
        "class": "File",
        "location": "/private/tmp/CWLKERNEL_DATA/35356b59-f7d1-48c0-86f4-38443d1f004f/results/40907f2f-c2d9-4187-b721-853f7d95d608/head1.out"
       }
      },
      "text/plain": [
       "{\"tailinput\": {\"class\": \"File\", \"location\": \"/private/tmp/CWLKERNEL_DATA/35356b59-f7d1-48c0-86f4-38443d1f004f/results/40907f2f-c2d9-4187-b721-853f7d95d608/head1.out\"}, \"number_of_lines\": 5}"
      ]
     },
     "metadata": {
      "application/json": {
       "expanded": false,
       "root": "root"
      }
     },
     "output_type": "display_data"
    },
    {
     "name": "stdout",
     "output_type": "stream",
     "text": [
      "Add data in memory"
     ]
    },
    {
     "data": {
      "application/json": {
       "tailoutput": {
        "_produced_by": "tail",
        "basename": "tail.out",
        "checksum": "sha1$dce7238df9eab877ea503f7c4b5b9ef71e0fd65f",
        "class": "File",
        "http://commonwl.org/cwltool#generation": 0,
        "id": "tailoutput",
        "location": "file:///private/tmp/CWLKERNEL_DATA/35356b59-f7d1-48c0-86f4-38443d1f004f/runtime_data/tail.out",
        "nameext": ".out",
        "nameroot": "tail",
        "result_counter": 1,
        "size": 346
       }
      },
      "text/plain": [
       "{\"tailoutput\": {\"location\": \"file:///private/tmp/CWLKERNEL_DATA/35356b59-f7d1-48c0-86f4-38443d1f004f/runtime_data/tail.out\", \"basename\": \"tail.out\", \"nameroot\": \"tail\", \"nameext\": \".out\", \"class\": \"File\", \"checksum\": \"sha1$dce7238df9eab877ea503f7c4b5b9ef71e0fd65f\", \"size\": 346, \"http://commonwl.org/cwltool#generation\": 0, \"_produced_by\": \"tail\", \"id\": \"tailoutput\", \"result_counter\": 1}}"
      ]
     },
     "metadata": {
      "application/json": {
       "expanded": false,
       "root": "root"
      }
     },
     "output_type": "display_data"
    }
   ],
   "source": [
    "% execute tail\n",
    "tailinput:\n",
    "    class: File\n",
    "    $data: head/headoutput\n",
    "number_of_lines: 5"
   ]
  },
  {
   "cell_type": "code",
   "execution_count": 6,
   "metadata": {},
   "outputs": [
    {
     "data": {
      "text/html": [
       "<table border=\"1\" class=\"dataframe\">\n",
       "  <thead>\n",
       "    <tr style=\"text-align: right;\">\n",
       "      <th>0</th>\n",
       "      <th>1</th>\n",
       "      <th>2</th>\n",
       "      <th>3</th>\n",
       "      <th>4</th>\n",
       "      <th>5</th>\n",
       "      <th>6</th>\n",
       "      <th>7</th>\n",
       "      <th>8</th>\n",
       "      <th>9</th>\n",
       "      <th>10</th>\n",
       "      <th>11</th>\n",
       "      <th>12</th>\n",
       "      <th>13</th>\n",
       "      <th>14</th>\n",
       "      <th>15</th>\n",
       "      <th>16</th>\n",
       "      <th>17</th>\n",
       "      <th>18</th>\n",
       "      <th>19</th>\n",
       "    </tr>\n",
       "  </thead>\n",
       "  <tbody>\n",
       "    <tr>\n",
       "      <td>53</td>\n",
       "      <td>76</td>\n",
       "      <td>-98</td>\n",
       "      <td>12</td>\n",
       "      <td>-47</td>\n",
       "      <td>14</td>\n",
       "      <td>-34</td>\n",
       "      <td>54</td>\n",
       "      <td>72</td>\n",
       "      <td>-12</td>\n",
       "      <td>-20</td>\n",
       "      <td>56</td>\n",
       "      <td>81</td>\n",
       "      <td>-24</td>\n",
       "      <td>93</td>\n",
       "      <td>-61</td>\n",
       "      <td>-81</td>\n",
       "      <td>68</td>\n",
       "      <td>-68</td>\n",
       "      <td>-5</td>\n",
       "    </tr>\n",
       "    <tr>\n",
       "      <td>49</td>\n",
       "      <td>51</td>\n",
       "      <td>-38</td>\n",
       "      <td>-84</td>\n",
       "      <td>26</td>\n",
       "      <td>41</td>\n",
       "      <td>90</td>\n",
       "      <td>59</td>\n",
       "      <td>22</td>\n",
       "      <td>-24</td>\n",
       "      <td>80</td>\n",
       "      <td>73</td>\n",
       "      <td>52</td>\n",
       "      <td>-75</td>\n",
       "      <td>53</td>\n",
       "      <td>-92</td>\n",
       "      <td>25</td>\n",
       "      <td>-50</td>\n",
       "      <td>76</td>\n",
       "      <td>-44</td>\n",
       "    </tr>\n",
       "    <tr>\n",
       "      <td>-12</td>\n",
       "      <td>-17</td>\n",
       "      <td>53</td>\n",
       "      <td>31</td>\n",
       "      <td>15</td>\n",
       "      <td>55</td>\n",
       "      <td>-52</td>\n",
       "      <td>90</td>\n",
       "      <td>-93</td>\n",
       "      <td>-64</td>\n",
       "      <td>82</td>\n",
       "      <td>-12</td>\n",
       "      <td>-98</td>\n",
       "      <td>-70</td>\n",
       "      <td>-2</td>\n",
       "      <td>64</td>\n",
       "      <td>67</td>\n",
       "      <td>-87</td>\n",
       "      <td>-58</td>\n",
       "      <td>69</td>\n",
       "    </tr>\n",
       "    <tr>\n",
       "      <td>28</td>\n",
       "      <td>11</td>\n",
       "      <td>-73</td>\n",
       "      <td>37</td>\n",
       "      <td>24</td>\n",
       "      <td>100</td>\n",
       "      <td>-94</td>\n",
       "      <td>-34</td>\n",
       "      <td>-64</td>\n",
       "      <td>52</td>\n",
       "      <td>-76</td>\n",
       "      <td>-41</td>\n",
       "      <td>-67</td>\n",
       "      <td>41</td>\n",
       "      <td>-50</td>\n",
       "      <td>-38</td>\n",
       "      <td>-25</td>\n",
       "      <td>85</td>\n",
       "      <td>42</td>\n",
       "      <td>62</td>\n",
       "    </tr>\n",
       "    <tr>\n",
       "      <td>-49</td>\n",
       "      <td>-55</td>\n",
       "      <td>76</td>\n",
       "      <td>92</td>\n",
       "      <td>81</td>\n",
       "      <td>-4</td>\n",
       "      <td>66</td>\n",
       "      <td>49</td>\n",
       "      <td>-70</td>\n",
       "      <td>48</td>\n",
       "      <td>-46</td>\n",
       "      <td>-19</td>\n",
       "      <td>-22</td>\n",
       "      <td>-48</td>\n",
       "      <td>-80</td>\n",
       "      <td>50</td>\n",
       "      <td>74</td>\n",
       "      <td>-46</td>\n",
       "      <td>73</td>\n",
       "      <td>33</td>\n",
       "    </tr>\n",
       "  </tbody>\n",
       "</table>"
      ],
      "text/plain": [
       "   0   1   2   3   4    5   6   7   8   9   10  11  12  13  14  15  16  17  18  19\n",
       "0  53  76 -98  12 -47   14 -34  54  72 -12 -20  56  81 -24  93 -61 -81  68 -68  -5\n",
       "1  49  51 -38 -84  26   41  90  59  22 -24  80  73  52 -75  53 -92  25 -50  76 -44\n",
       "2 -12 -17  53  31  15   55 -52  90 -93 -64  82 -12 -98 -70  -2  64  67 -87 -58  69\n",
       "3  28  11 -73  37  24  100 -94 -34 -64  52 -76 -41 -67  41 -50 -38 -25  85  42  62\n",
       "4 -49 -55  76  92  81   -4  66  49 -70  48 -46 -19 -22 -48 -80  50  74 -46  73  33"
      ]
     },
     "metadata": {},
     "output_type": "display_data"
    }
   ],
   "source": [
    "% displayDataCSV tailoutput"
   ]
  },
  {
   "cell_type": "code",
   "execution_count": 7,
   "metadata": {},
   "outputs": [
    {
     "data": {
      "application/json": {
       "class": "Workflow",
       "cwlVersion": "v1.0",
       "id": "main",
       "inputs": [
        {
         "id": "headinput",
         "type": "File"
        },
        {
         "id": "number_of_lines",
         "type": "int?"
        }
       ],
       "outputs": [
        {
         "id": "tailoutput",
         "outputSource": "tail/tailoutput",
         "type": "File"
        }
       ],
       "requirements": {},
       "steps": {
        "head": {
         "in": {
          "headinput": "headinput",
          "number_of_lines": "number_of_lines"
         },
         "out": [
          "headoutput"
         ],
         "run": "head.cwl"
        },
        "tail": {
         "in": {
          "number_of_lines": "number_of_lines",
          "tailinput": "head/headoutput"
         },
         "out": [
          "tailoutput"
         ],
         "run": "tail.cwl"
        }
       }
      },
      "text/plain": [
       "{\"cwlVersion\": \"v1.0\", \"class\": \"Workflow\", \"id\": \"main\", \"inputs\": [{\"id\": \"headinput\", \"type\": \"File\"}, {\"id\": \"number_of_lines\", \"type\": \"int?\"}], \"outputs\": [{\"id\": \"tailoutput\", \"type\": \"File\", \"outputSource\": \"tail/tailoutput\"}], \"steps\": {\"head\": {\"run\": \"head.cwl\", \"in\": {\"headinput\": \"headinput\", \"number_of_lines\": \"number_of_lines\"}, \"out\": [\"headoutput\"]}, \"tail\": {\"run\": \"tail.cwl\", \"in\": {\"tailinput\": \"head/headoutput\", \"number_of_lines\": \"number_of_lines\"}, \"out\": [\"tailoutput\"]}}, \"requirements\": {}}"
      ]
     },
     "metadata": {
      "application/json": {
       "expanded": false,
       "root": "root"
      }
     },
     "output_type": "display_data"
    }
   ],
   "source": [
    "% compile main"
   ]
  },
  {
   "cell_type": "code",
   "execution_count": 8,
   "metadata": {},
   "outputs": [
    {
     "data": {
      "text/html": [
       "<div style=\"max-width: 100%;\"><svg xmlns=\"http://www.w3.org/2000/svg\" width=\"304pt\" height=\"320pt\" viewBox=\"0.00 0.00 304.00 320.00\">\n",
       "<g id=\"graph0\" class=\"graph\" transform=\"scale(1 1) rotate(0) translate(4 316)\">\n",
       "<title>G</title>\n",
       "<polygon fill=\"#eeeeee\" stroke=\"transparent\" points=\"-4,4 -4,-316 300,-316 300,4 -4,4\"></polygon>\n",
       "<g id=\"clust1\" class=\"cluster\">\n",
       "<title>cluster_inputs</title>\n",
       "<polygon fill=\"#eeeeee\" stroke=\"black\" stroke-dasharray=\"5,2\" points=\"8,-229 8,-304 288,-304 288,-229 8,-229\"></polygon>\n",
       "<text text-anchor=\"middle\" x=\"232.92\" y=\"-235.8\" font-family=\"Times,serif\" font-size=\"14.00\">Workflow Inputs</text>\n",
       "</g>\n",
       "<g id=\"clust2\" class=\"cluster\">\n",
       "<title>cluster_outputs</title>\n",
       "<polygon fill=\"#eeeeee\" stroke=\"black\" stroke-dasharray=\"5,2\" points=\"122,-8 122,-83 241,-83 241,-8 122,-8\"></polygon>\n",
       "<text text-anchor=\"middle\" x=\"181.25\" y=\"-14.8\" font-family=\"Times,serif\" font-size=\"14.00\">Workflow Outputs</text>\n",
       "</g>\n",
       "\n",
       "<g id=\"node1\" class=\"node\">\n",
       "<title>file:///private/tmp/CWLKERNEL_DATA/35356b59-f7d1-48c0-86f4-38443d1f004f/repo/main.cwl#main/head</title>\n",
       "<polygon fill=\"lightgoldenrodyellow\" stroke=\"black\" points=\"127,-184.5 127,-220.5 181,-220.5 181,-184.5 127,-184.5\"></polygon>\n",
       "<text text-anchor=\"middle\" x=\"153.71\" y=\"-198.3\" font-family=\"Times,serif\" font-size=\"14.00\">head</text>\n",
       "</g>\n",
       "\n",
       "<g id=\"node2\" class=\"node\">\n",
       "<title>file:///private/tmp/CWLKERNEL_DATA/35356b59-f7d1-48c0-86f4-38443d1f004f/repo/main.cwl#main/tail</title>\n",
       "<polygon fill=\"lightgoldenrodyellow\" stroke=\"black\" points=\"154,-111.5 154,-147.5 208,-147.5 208,-111.5 154,-111.5\"></polygon>\n",
       "<text text-anchor=\"middle\" x=\"180.94\" y=\"-125.3\" font-family=\"Times,serif\" font-size=\"14.00\">tail</text>\n",
       "</g>\n",
       "\n",
       "<g id=\"edge1\" class=\"edge\">\n",
       "<title>file:///private/tmp/CWLKERNEL_DATA/35356b59-f7d1-48c0-86f4-38443d1f004f/repo/main.cwl#main/head-&gt;file:///private/tmp/CWLKERNEL_DATA/35356b59-f7d1-48c0-86f4-38443d1f004f/repo/main.cwl#main/tail</title>\n",
       "<path fill=\"none\" stroke=\"black\" d=\"M160.54,-184.31C163.65,-176.12 167.45,-166.12 170.93,-156.98\"></path>\n",
       "<polygon fill=\"black\" stroke=\"black\" points=\"174.24,-158.12 174.52,-147.53 167.7,-155.63 174.24,-158.12\"></polygon>\n",
       "</g>\n",
       "\n",
       "<g id=\"node5\" class=\"node\">\n",
       "<title>file:///private/tmp/CWLKERNEL_DATA/35356b59-f7d1-48c0-86f4-38443d1f004f/repo/main.cwl#main/tailoutput</title>\n",
       "<polygon fill=\"#94ddf4\" stroke=\"black\" points=\"130.23,-38.5 130.23,-74.5 231.77,-74.5 231.77,-38.5 130.23,-38.5\"></polygon>\n",
       "<text text-anchor=\"middle\" x=\"181\" y=\"-52.3\" font-family=\"Times,serif\" font-size=\"14.00\">main/tailoutput</text>\n",
       "</g>\n",
       "\n",
       "<g id=\"edge5\" class=\"edge\">\n",
       "<title>file:///private/tmp/CWLKERNEL_DATA/35356b59-f7d1-48c0-86f4-38443d1f004f/repo/main.cwl#main/tail-&gt;file:///private/tmp/CWLKERNEL_DATA/35356b59-f7d1-48c0-86f4-38443d1f004f/repo/main.cwl#main/tailoutput</title>\n",
       "<path fill=\"none\" stroke=\"black\" d=\"M181,-111.31C181,-103.29 181,-93.55 181,-84.57\"></path>\n",
       "<polygon fill=\"black\" stroke=\"black\" points=\"184.5,-84.53 181,-74.53 177.5,-84.53 184.5,-84.53\"></polygon>\n",
       "</g>\n",
       "\n",
       "<g id=\"node3\" class=\"node\">\n",
       "<title>file:///private/tmp/CWLKERNEL_DATA/35356b59-f7d1-48c0-86f4-38443d1f004f/repo/main.cwl#main/number_of_lines</title>\n",
       "<polygon fill=\"#94ddf4\" stroke=\"black\" points=\"137.62,-259.5 137.62,-295.5 280.38,-295.5 280.38,-259.5 137.62,-259.5\"></polygon>\n",
       "<text text-anchor=\"middle\" x=\"209\" y=\"-273.3\" font-family=\"Times,serif\" font-size=\"14.00\">main/number_of_lines</text>\n",
       "</g>\n",
       "\n",
       "<g id=\"edge3\" class=\"edge\">\n",
       "<title>file:///private/tmp/CWLKERNEL_DATA/35356b59-f7d1-48c0-86f4-38443d1f004f/repo/main.cwl#main/number_of_lines-&gt;file:///private/tmp/CWLKERNEL_DATA/35356b59-f7d1-48c0-86f4-38443d1f004f/repo/main.cwl#main/head</title>\n",
       "<path fill=\"none\" stroke=\"black\" d=\"M195.97,-259.2C189.12,-250.11 180.59,-238.8 173.02,-228.75\"></path>\n",
       "<polygon fill=\"black\" stroke=\"black\" points=\"175.75,-226.56 166.94,-220.68 170.16,-230.77 175.75,-226.56\"></polygon>\n",
       "</g>\n",
       "\n",
       "<g id=\"edge2\" class=\"edge\">\n",
       "<title>file:///private/tmp/CWLKERNEL_DATA/35356b59-f7d1-48c0-86f4-38443d1f004f/repo/main.cwl#main/number_of_lines-&gt;file:///private/tmp/CWLKERNEL_DATA/35356b59-f7d1-48c0-86f4-38443d1f004f/repo/main.cwl#main/tail</title>\n",
       "<path fill=\"none\" stroke=\"black\" d=\"M205.73,-259.47C200.95,-234.54 192,-187.87 186.28,-158.04\"></path>\n",
       "<polygon fill=\"black\" stroke=\"black\" points=\"189.65,-157.04 184.33,-147.88 182.78,-158.36 189.65,-157.04\"></polygon>\n",
       "</g>\n",
       "\n",
       "<g id=\"node4\" class=\"node\">\n",
       "<title>file:///private/tmp/CWLKERNEL_DATA/35356b59-f7d1-48c0-86f4-38443d1f004f/repo/main.cwl#main/headinput</title>\n",
       "<polygon fill=\"#94ddf4\" stroke=\"black\" points=\"16.46,-259.5 16.46,-295.5 119.54,-295.5 119.54,-259.5 16.46,-259.5\"></polygon>\n",
       "<text text-anchor=\"middle\" x=\"68\" y=\"-273.3\" font-family=\"Times,serif\" font-size=\"14.00\">main/headinput</text>\n",
       "</g>\n",
       "\n",
       "<g id=\"edge4\" class=\"edge\">\n",
       "<title>file:///private/tmp/CWLKERNEL_DATA/35356b59-f7d1-48c0-86f4-38443d1f004f/repo/main.cwl#main/headinput-&gt;file:///private/tmp/CWLKERNEL_DATA/35356b59-f7d1-48c0-86f4-38443d1f004f/repo/main.cwl#main/head</title>\n",
       "<path fill=\"none\" stroke=\"black\" d=\"M88.38,-259.2C99.63,-249.65 113.76,-237.66 126.02,-227.25\"></path>\n",
       "<polygon fill=\"black\" stroke=\"black\" points=\"128.41,-229.82 133.77,-220.68 123.88,-224.48 128.41,-229.82\"></polygon>\n",
       "</g>\n",
       "</g>\n",
       "</svg></div>"
      ],
      "text/plain": [
       "<div style=\"max-width: 100%;\"><svg xmlns=\"http://www.w3.org/2000/svg\" width=\"304pt\" height=\"320pt\" viewBox=\"0.00 0.00 304.00 320.00\">\n",
       "<g id=\"graph0\" class=\"graph\" transform=\"scale(1 1) rotate(0) translate(4 316)\">\n",
       "<title>G</title>\n",
       "<polygon fill=\"#eeeeee\" stroke=\"transparent\" points=\"-4,4 -4,-316 300,-316 300,4 -4,4\"></polygon>\n",
       "<g id=\"clust1\" class=\"cluster\">\n",
       "<title>cluster_inputs</title>\n",
       "<polygon fill=\"#eeeeee\" stroke=\"black\" stroke-dasharray=\"5,2\" points=\"8,-229 8,-304 288,-304 288,-229 8,-229\"></polygon>\n",
       "<text text-anchor=\"middle\" x=\"232.92\" y=\"-235.8\" font-family=\"Times,serif\" font-size=\"14.00\">Workflow Inputs</text>\n",
       "</g>\n",
       "<g id=\"clust2\" class=\"cluster\">\n",
       "<title>cluster_outputs</title>\n",
       "<polygon fill=\"#eeeeee\" stroke=\"black\" stroke-dasharray=\"5,2\" points=\"122,-8 122,-83 241,-83 241,-8 122,-8\"></polygon>\n",
       "<text text-anchor=\"middle\" x=\"181.25\" y=\"-14.8\" font-family=\"Times,serif\" font-size=\"14.00\">Workflow Outputs</text>\n",
       "</g>\n",
       "\n",
       "<g id=\"node1\" class=\"node\">\n",
       "<title>file:///private/tmp/CWLKERNEL_DATA/35356b59-f7d1-48c0-86f4-38443d1f004f/repo/main.cwl#main/head</title>\n",
       "<polygon fill=\"lightgoldenrodyellow\" stroke=\"black\" points=\"127,-184.5 127,-220.5 181,-220.5 181,-184.5 127,-184.5\"></polygon>\n",
       "<text text-anchor=\"middle\" x=\"153.71\" y=\"-198.3\" font-family=\"Times,serif\" font-size=\"14.00\">head</text>\n",
       "</g>\n",
       "\n",
       "<g id=\"node2\" class=\"node\">\n",
       "<title>file:///private/tmp/CWLKERNEL_DATA/35356b59-f7d1-48c0-86f4-38443d1f004f/repo/main.cwl#main/tail</title>\n",
       "<polygon fill=\"lightgoldenrodyellow\" stroke=\"black\" points=\"154,-111.5 154,-147.5 208,-147.5 208,-111.5 154,-111.5\"></polygon>\n",
       "<text text-anchor=\"middle\" x=\"180.94\" y=\"-125.3\" font-family=\"Times,serif\" font-size=\"14.00\">tail</text>\n",
       "</g>\n",
       "\n",
       "<g id=\"edge1\" class=\"edge\">\n",
       "<title>file:///private/tmp/CWLKERNEL_DATA/35356b59-f7d1-48c0-86f4-38443d1f004f/repo/main.cwl#main/head-&gt;file:///private/tmp/CWLKERNEL_DATA/35356b59-f7d1-48c0-86f4-38443d1f004f/repo/main.cwl#main/tail</title>\n",
       "<path fill=\"none\" stroke=\"black\" d=\"M160.54,-184.31C163.65,-176.12 167.45,-166.12 170.93,-156.98\"></path>\n",
       "<polygon fill=\"black\" stroke=\"black\" points=\"174.24,-158.12 174.52,-147.53 167.7,-155.63 174.24,-158.12\"></polygon>\n",
       "</g>\n",
       "\n",
       "<g id=\"node5\" class=\"node\">\n",
       "<title>file:///private/tmp/CWLKERNEL_DATA/35356b59-f7d1-48c0-86f4-38443d1f004f/repo/main.cwl#main/tailoutput</title>\n",
       "<polygon fill=\"#94ddf4\" stroke=\"black\" points=\"130.23,-38.5 130.23,-74.5 231.77,-74.5 231.77,-38.5 130.23,-38.5\"></polygon>\n",
       "<text text-anchor=\"middle\" x=\"181\" y=\"-52.3\" font-family=\"Times,serif\" font-size=\"14.00\">main/tailoutput</text>\n",
       "</g>\n",
       "\n",
       "<g id=\"edge5\" class=\"edge\">\n",
       "<title>file:///private/tmp/CWLKERNEL_DATA/35356b59-f7d1-48c0-86f4-38443d1f004f/repo/main.cwl#main/tail-&gt;file:///private/tmp/CWLKERNEL_DATA/35356b59-f7d1-48c0-86f4-38443d1f004f/repo/main.cwl#main/tailoutput</title>\n",
       "<path fill=\"none\" stroke=\"black\" d=\"M181,-111.31C181,-103.29 181,-93.55 181,-84.57\"></path>\n",
       "<polygon fill=\"black\" stroke=\"black\" points=\"184.5,-84.53 181,-74.53 177.5,-84.53 184.5,-84.53\"></polygon>\n",
       "</g>\n",
       "\n",
       "<g id=\"node3\" class=\"node\">\n",
       "<title>file:///private/tmp/CWLKERNEL_DATA/35356b59-f7d1-48c0-86f4-38443d1f004f/repo/main.cwl#main/number_of_lines</title>\n",
       "<polygon fill=\"#94ddf4\" stroke=\"black\" points=\"137.62,-259.5 137.62,-295.5 280.38,-295.5 280.38,-259.5 137.62,-259.5\"></polygon>\n",
       "<text text-anchor=\"middle\" x=\"209\" y=\"-273.3\" font-family=\"Times,serif\" font-size=\"14.00\">main/number_of_lines</text>\n",
       "</g>\n",
       "\n",
       "<g id=\"edge3\" class=\"edge\">\n",
       "<title>file:///private/tmp/CWLKERNEL_DATA/35356b59-f7d1-48c0-86f4-38443d1f004f/repo/main.cwl#main/number_of_lines-&gt;file:///private/tmp/CWLKERNEL_DATA/35356b59-f7d1-48c0-86f4-38443d1f004f/repo/main.cwl#main/head</title>\n",
       "<path fill=\"none\" stroke=\"black\" d=\"M195.97,-259.2C189.12,-250.11 180.59,-238.8 173.02,-228.75\"></path>\n",
       "<polygon fill=\"black\" stroke=\"black\" points=\"175.75,-226.56 166.94,-220.68 170.16,-230.77 175.75,-226.56\"></polygon>\n",
       "</g>\n",
       "\n",
       "<g id=\"edge2\" class=\"edge\">\n",
       "<title>file:///private/tmp/CWLKERNEL_DATA/35356b59-f7d1-48c0-86f4-38443d1f004f/repo/main.cwl#main/number_of_lines-&gt;file:///private/tmp/CWLKERNEL_DATA/35356b59-f7d1-48c0-86f4-38443d1f004f/repo/main.cwl#main/tail</title>\n",
       "<path fill=\"none\" stroke=\"black\" d=\"M205.73,-259.47C200.95,-234.54 192,-187.87 186.28,-158.04\"></path>\n",
       "<polygon fill=\"black\" stroke=\"black\" points=\"189.65,-157.04 184.33,-147.88 182.78,-158.36 189.65,-157.04\"></polygon>\n",
       "</g>\n",
       "\n",
       "<g id=\"node4\" class=\"node\">\n",
       "<title>file:///private/tmp/CWLKERNEL_DATA/35356b59-f7d1-48c0-86f4-38443d1f004f/repo/main.cwl#main/headinput</title>\n",
       "<polygon fill=\"#94ddf4\" stroke=\"black\" points=\"16.46,-259.5 16.46,-295.5 119.54,-295.5 119.54,-259.5 16.46,-259.5\"></polygon>\n",
       "<text text-anchor=\"middle\" x=\"68\" y=\"-273.3\" font-family=\"Times,serif\" font-size=\"14.00\">main/headinput</text>\n",
       "</g>\n",
       "\n",
       "<g id=\"edge4\" class=\"edge\">\n",
       "<title>file:///private/tmp/CWLKERNEL_DATA/35356b59-f7d1-48c0-86f4-38443d1f004f/repo/main.cwl#main/headinput-&gt;file:///private/tmp/CWLKERNEL_DATA/35356b59-f7d1-48c0-86f4-38443d1f004f/repo/main.cwl#main/head</title>\n",
       "<path fill=\"none\" stroke=\"black\" d=\"M88.38,-259.2C99.63,-249.65 113.76,-237.66 126.02,-227.25\"></path>\n",
       "<polygon fill=\"black\" stroke=\"black\" points=\"128.41,-229.82 133.77,-220.68 123.88,-224.48 128.41,-229.82\"></polygon>\n",
       "</g>\n",
       "</g>\n",
       "</svg></div>"
      ]
     },
     "metadata": {},
     "output_type": "display_data"
    }
   ],
   "source": [
    "% view main"
   ]
  },
  {
   "cell_type": "markdown",
   "metadata": {},
   "source": [
    "Now, if we want we can use `edit` magic commmand. The edit command will bring to the code cell the worklfow description of the workflow with the selected id. In particular, if in a cell you type:\n",
    "```\n",
    "% edit main\n",
    "```\n",
    "the cell will be updated and it will have the content as it is in the next cell."
   ]
  },
  {
   "cell_type": "code",
   "execution_count": 9,
   "metadata": {},
   "outputs": [
    {
     "name": "stdout",
     "output_type": "stream",
     "text": [
      "Tool 'main' updated"
     ]
    },
    {
     "data": {
      "application/json": {
       "class": "Workflow",
       "cwlVersion": "v1.0",
       "id": "main",
       "inputs": [
        {
         "id": "headinput",
         "type": "File"
        },
        {
         "id": "number_of_lines",
         "type": "int?"
        }
       ],
       "outputs": [
        {
         "id": "tailoutput",
         "outputSource": "tail/tailoutput",
         "type": "File"
        }
       ],
       "requirements": {},
       "steps": {
        "head": {
         "in": {
          "headinput": "headinput",
          "number_of_lines": "number_of_lines"
         },
         "out": [
          "headoutput"
         ],
         "run": "head.cwl"
        },
        "tail": {
         "in": {
          "number_of_lines": "number_of_lines",
          "tailinput": "head/headoutput"
         },
         "out": [
          "tailoutput"
         ],
         "run": "tail.cwl"
        }
       }
      },
      "text/plain": [
       "{\"cwlVersion\": \"v1.0\", \"class\": \"Workflow\", \"id\": \"main\", \"inputs\": [{\"id\": \"headinput\", \"type\": \"File\"}, {\"id\": \"number_of_lines\", \"type\": \"int?\"}], \"outputs\": [{\"id\": \"tailoutput\", \"outputSource\": \"tail/tailoutput\", \"type\": \"File\"}], \"steps\": {\"head\": {\"in\": {\"headinput\": \"headinput\", \"number_of_lines\": \"number_of_lines\"}, \"out\": [\"headoutput\"], \"run\": \"head.cwl\"}, \"tail\": {\"in\": {\"number_of_lines\": \"number_of_lines\", \"tailinput\": \"head/headoutput\"}, \"out\": [\"tailoutput\"], \"run\": \"tail.cwl\"}}, \"requirements\": {}}"
      ]
     },
     "metadata": {
      "application/json": {
       "expanded": false,
       "root": "root"
      }
     },
     "output_type": "display_data"
    }
   ],
   "source": [
    "% edit main\n",
    "class: Workflow\n",
    "cwlVersion: v1.0\n",
    "id: main\n",
    "inputs:\n",
    "- id: headinput\n",
    "  type: File\n",
    "- id: number_of_lines\n",
    "  type: int?\n",
    "outputs:\n",
    "- id: tailoutput\n",
    "  outputSource: tail/tailoutput\n",
    "  type: File\n",
    "requirements: {}\n",
    "steps:\n",
    "  head:\n",
    "    in:\n",
    "      headinput: headinput\n",
    "      number_of_lines: number_of_lines\n",
    "    out:\n",
    "    - headoutput\n",
    "    run: head.cwl\n",
    "  tail:\n",
    "    in:\n",
    "      number_of_lines: number_of_lines\n",
    "      tailinput: head/headoutput\n",
    "    out:\n",
    "    - tailoutput\n",
    "    run: tail.cwl\n"
   ]
  }
 ],
 "metadata": {
  "kernelspec": {
   "display_name": "Common Workflow Languages",
   "language": "cwl",
   "name": "cwlkernel"
  },
  "language_info": {
   "file_extension": ".cwl",
   "mimetype": "text/x-cwl",
   "name": "yaml"
  }
 },
 "nbformat": 4,
 "nbformat_minor": 4
}
