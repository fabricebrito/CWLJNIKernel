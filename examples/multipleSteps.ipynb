{
 "cells": [
  {
   "cell_type": "markdown",
   "metadata": {},
   "source": [
    "# Execute Multiple Steps"
   ]
  },
  {
   "cell_type": "code",
   "execution_count": 1,
   "metadata": {},
   "outputs": [
    {
     "name": "stdout",
     "output_type": "stream",
     "text": [
      "tool 'head' registered"
     ]
    }
   ],
   "source": [
    "class: CommandLineTool\n",
    "cwlVersion: v1.1\n",
    "id: head\n",
    "baseCommand:\n",
    "  - head\n",
    "inputs:\n",
    "  - id: number_of_lines\n",
    "    type: int?\n",
    "    inputBinding:\n",
    "      position: 0\n",
    "      prefix: '-n'\n",
    "  - id: headinput\n",
    "    type: File\n",
    "    inputBinding:\n",
    "      position: 1\n",
    "outputs:\n",
    "  - id: headoutput\n",
    "    type: stdout\n",
    "label: head\n",
    "stdout: head.out"
   ]
  },
  {
   "cell_type": "code",
   "execution_count": 2,
   "metadata": {},
   "outputs": [
    {
     "name": "stdout",
     "output_type": "stream",
     "text": [
      "tool 'tail' registered"
     ]
    }
   ],
   "source": [
    "class: CommandLineTool\n",
    "cwlVersion: v1.1\n",
    "id: tail\n",
    "baseCommand:\n",
    "  - tail\n",
    "inputs:\n",
    "  - id: number_of_lines\n",
    "    type: int?\n",
    "    inputBinding:\n",
    "      position: 0\n",
    "      prefix: '-n'\n",
    "  - id: tailinput\n",
    "    type: File\n",
    "    inputBinding:\n",
    "      position: 1\n",
    "outputs:\n",
    "  - id: tailoutput\n",
    "    type: stdout\n",
    "label: tail\n",
    "stdout: tail.out"
   ]
  },
  {
   "cell_type": "code",
   "execution_count": 3,
   "metadata": {},
   "outputs": [
    {
     "name": "stdout",
     "output_type": "stream",
     "text": [
      "Add data in memory"
     ]
    },
    {
     "data": {
      "application/json": {
       "headoutput": {
        "basename": "head.out",
        "checksum": "sha1$e186f07099395040cf9d83ff1eb0a5dad4801937",
        "class": "File",
        "http://commonwl.org/cwltool#generation": 0,
        "id": "headoutput",
        "location": "file:///private/tmp/CWLKERNEL_DATA/959ee3d6-c5ec-4fa3-9250-72882bbdead3/runtime_data/head.out",
        "nameext": ".out",
        "nameroot": "head",
        "result_counter": 0,
        "size": 688
       }
      },
      "text/plain": [
       "{\"headoutput\": {\"location\": \"file:///private/tmp/CWLKERNEL_DATA/959ee3d6-c5ec-4fa3-9250-72882bbdead3/runtime_data/head.out\", \"basename\": \"head.out\", \"nameroot\": \"head\", \"nameext\": \".out\", \"class\": \"File\", \"checksum\": \"sha1$e186f07099395040cf9d83ff1eb0a5dad4801937\", \"size\": 688, \"http://commonwl.org/cwltool#generation\": 0, \"id\": \"headoutput\", \"result_counter\": 0}}"
      ]
     },
     "metadata": {
      "application/json": {
       "expanded": false,
       "root": "root"
      }
     },
     "output_type": "display_data"
    }
   ],
   "source": [
    "% execute head\n",
    "headinput:\n",
    "    class: File\n",
    "    location: /Users/dks/Workspaces/CWLKernel/tests/input_data/data.csv\n",
    "number_of_lines: 10"
   ]
  },
  {
   "cell_type": "code",
   "execution_count": 4,
   "metadata": {},
   "outputs": [
    {
     "name": "stdout",
     "output_type": "stream",
     "text": [
      "-54,-85,-5,47,39,20,-58,24,12,13,4,-22,-1,-70,44,-30,91,-6,40,-24\n",
      "29,35,10,-83,48,47,-99,-69,-47,23,22,100,72,-81,32,30,-90,57,61,81\n",
      "-28,31,-71,-67,40,33,-8,12,-76,12,94,-71,-70,-51,95,-59,58,-30,57,-16\n",
      "-24,-34,-84,-56,-27,-45,-64,-9,-18,72,18,21,33,74,94,22,-31,-72,94,60\n",
      "17,45,-68,-76,-32,72,-10,-9,35,88,31,41,66,32,97,-15,-76,-20,-27,-84\n",
      "53,76,-98,12,-47,14,-34,54,72,-12,-20,56,81,-24,93,-61,-81,68,-68,-5\n",
      "49,51,-38,-84,26,41,90,59,22,-24,80,73,52,-75,53,-92,25,-50,76,-44\n",
      "-12,-17,53,31,15,55,-52,90,-93,-64,82,-12,-98,-70,-2,64,67,-87,-58,69\n",
      "28,11,-73,37,24,100,-94,-34,-64,52,-76,-41,-67,41,-50,-38,-25,85,42,62\n",
      "-49,-55,76,92,81,-4,66,49,-70,48,-46,-19,-22,-48,-80,50,74,-46,73,33\n"
     ]
    }
   ],
   "source": [
    "% display_data headoutput"
   ]
  },
  {
   "cell_type": "code",
   "execution_count": 5,
   "metadata": {},
   "outputs": [
    {
     "name": "stdout",
     "output_type": "stream",
     "text": [
      "set data to:\n"
     ]
    },
    {
     "data": {
      "application/json": {
       "number_of_lines": 5,
       "tailinput": {
        "class": "File",
        "location": "/private/tmp/CWLKERNEL_DATA/959ee3d6-c5ec-4fa3-9250-72882bbdead3/results/f8e1f99f-bfa1-4671-af4b-78a7b4320ab0/head.out"
       }
      },
      "text/plain": [
       "{\"tailinput\": {\"class\": \"File\", \"location\": \"/private/tmp/CWLKERNEL_DATA/959ee3d6-c5ec-4fa3-9250-72882bbdead3/results/f8e1f99f-bfa1-4671-af4b-78a7b4320ab0/head.out\"}, \"number_of_lines\": 5}"
      ]
     },
     "metadata": {
      "application/json": {
       "expanded": false,
       "root": "root"
      }
     },
     "output_type": "display_data"
    },
    {
     "name": "stdout",
     "output_type": "stream",
     "text": [
      "Add data in memory"
     ]
    },
    {
     "data": {
      "application/json": {
       "tailoutput": {
        "basename": "tail.out",
        "checksum": "sha1$dce7238df9eab877ea503f7c4b5b9ef71e0fd65f",
        "class": "File",
        "http://commonwl.org/cwltool#generation": 0,
        "id": "tailoutput",
        "location": "file:///private/tmp/CWLKERNEL_DATA/959ee3d6-c5ec-4fa3-9250-72882bbdead3/runtime_data/tail.out",
        "nameext": ".out",
        "nameroot": "tail",
        "result_counter": 1,
        "size": 346
       }
      },
      "text/plain": [
       "{\"tailoutput\": {\"location\": \"file:///private/tmp/CWLKERNEL_DATA/959ee3d6-c5ec-4fa3-9250-72882bbdead3/runtime_data/tail.out\", \"basename\": \"tail.out\", \"nameroot\": \"tail\", \"nameext\": \".out\", \"class\": \"File\", \"checksum\": \"sha1$dce7238df9eab877ea503f7c4b5b9ef71e0fd65f\", \"size\": 346, \"http://commonwl.org/cwltool#generation\": 0, \"id\": \"tailoutput\", \"result_counter\": 1}}"
      ]
     },
     "metadata": {
      "application/json": {
       "expanded": false,
       "root": "root"
      }
     },
     "output_type": "display_data"
    }
   ],
   "source": [
    "% execute tail\n",
    "tailinput:\n",
    "    class: File\n",
    "    $data: headoutput\n",
    "number_of_lines: 5"
   ]
  },
  {
   "cell_type": "code",
   "execution_count": 6,
   "metadata": {},
   "outputs": [
    {
     "name": "stdout",
     "output_type": "stream",
     "text": [
      "53,76,-98,12,-47,14,-34,54,72,-12,-20,56,81,-24,93,-61,-81,68,-68,-5\n",
      "49,51,-38,-84,26,41,90,59,22,-24,80,73,52,-75,53,-92,25,-50,76,-44\n",
      "-12,-17,53,31,15,55,-52,90,-93,-64,82,-12,-98,-70,-2,64,67,-87,-58,69\n",
      "28,11,-73,37,24,100,-94,-34,-64,52,-76,-41,-67,41,-50,-38,-25,85,42,62\n",
      "-49,-55,76,92,81,-4,66,49,-70,48,-46,-19,-22,-48,-80,50,74,-46,73,33\n"
     ]
    }
   ],
   "source": [
    "% display_data tailoutput"
   ]
  }
 ],
 "metadata": {
  "kernelspec": {
   "display_name": "Common Workflow Languages",
   "language": "cwl",
   "name": "cwlkernel"
  },
  "language_info": {
   "file_extension": ".cwl",
   "mimetype": "text/x-cwl",
   "name": "yaml"
  }
 },
 "nbformat": 4,
 "nbformat_minor": 4
}
