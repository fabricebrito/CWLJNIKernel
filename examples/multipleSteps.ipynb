{
 "cells": [
  {
   "cell_type": "markdown",
   "metadata": {},
   "source": [
    "# Execute Multiple Steps"
   ]
  },
  {
   "cell_type": "code",
   "execution_count": 1,
   "metadata": {},
   "outputs": [
    {
     "name": "stdout",
     "output_type": "stream",
     "text": [
      "tool 'head' registered"
     ]
    }
   ],
   "source": [
    "class: CommandLineTool\n",
    "cwlVersion: v1.0\n",
    "id: head\n",
    "baseCommand:\n",
    "  - head\n",
    "inputs:\n",
    "  - id: number_of_lines\n",
    "    type: int?\n",
    "    inputBinding:\n",
    "      position: 0\n",
    "      prefix: '-n'\n",
    "  - id: headinput\n",
    "    type: File\n",
    "    inputBinding:\n",
    "      position: 1\n",
    "outputs:\n",
    "  - id: headoutput\n",
    "    type: stdout\n",
    "label: head\n",
    "stdout: head.out"
   ]
  },
  {
   "cell_type": "code",
   "execution_count": 2,
   "metadata": {},
   "outputs": [
    {
     "name": "stdout",
     "output_type": "stream",
     "text": [
      "tool 'tail' registered"
     ]
    }
   ],
   "source": [
    "class: CommandLineTool\n",
    "cwlVersion: v1.0\n",
    "id: tail\n",
    "baseCommand:\n",
    "  - tail\n",
    "inputs:\n",
    "  - id: number_of_lines\n",
    "    type: int?\n",
    "    inputBinding:\n",
    "      position: 0\n",
    "      prefix: '-n'\n",
    "  - id: tailinput\n",
    "    type: File\n",
    "    inputBinding:\n",
    "      position: 1\n",
    "outputs:\n",
    "  - id: tailoutput\n",
    "    type: stdout\n",
    "label: tail\n",
    "stdout: tail.out"
   ]
  },
  {
   "cell_type": "code",
   "execution_count": 3,
   "metadata": {},
   "outputs": [
    {
     "name": "stdout",
     "output_type": "stream",
     "text": [
      "Add data in memory"
     ]
    },
    {
     "data": {
      "application/json": {
       "headoutput": {
        "basename": "head.out",
        "checksum": "sha1$728aa6b07e4a63f29b8ab55af49609d84c8482e1",
        "class": "File",
        "http://commonwl.org/cwltool#generation": 0,
        "id": "headoutput",
        "location": "file:///private/tmp/CWLKERNEL_DATA/runtime_data/head.out",
        "nameext": ".out",
        "nameroot": "head",
        "size": 656
       }
      },
      "text/plain": [
       "<IPython.core.display.JSON object>"
      ]
     },
     "metadata": {
      "application/json": {
       "expanded": false,
       "root": "root"
      }
     },
     "output_type": "display_data"
    }
   ],
   "source": [
    "% execute head\n",
    "headinput:\n",
    "    class: File\n",
    "    location: /Users/dks/Desktop/data.csv\n",
    "number_of_lines: 10"
   ]
  },
  {
   "cell_type": "code",
   "execution_count": 4,
   "metadata": {},
   "outputs": [
    {
     "name": "stdout",
     "output_type": "stream",
     "text": [
      "dateRep,day,month,year,cases,deaths,countriesAndTerritories,geoId,countryterritoryCode,popData2018,continentExp\n",
      "11/05/2020,11,5,2020,369,5,Afghanistan,AF,AFG,37172386,Asia\n",
      "10/05/2020,10,5,2020,255,6,Afghanistan,AF,AFG,37172386,Asia\n",
      "09/05/2020,9,5,2020,215,3,Afghanistan,AF,AFG,37172386,Asia\n",
      "08/05/2020,8,5,2020,171,2,Afghanistan,AF,AFG,37172386,Asia\n",
      "07/05/2020,7,5,2020,168,9,Afghanistan,AF,AFG,37172386,Asia\n",
      "06/05/2020,6,5,2020,330,5,Afghanistan,AF,AFG,37172386,Asia\n",
      "05/05/2020,5,5,2020,190,5,Afghanistan,AF,AFG,37172386,Asia\n",
      "04/05/2020,4,5,2020,235,13,Afghanistan,AF,AFG,37172386,Asia\n",
      "03/05/2020,3,5,2020,134,4,Afghanistan,AF,AFG,37172386,Asia\n"
     ]
    }
   ],
   "source": [
    "% display_data headoutput"
   ]
  },
  {
   "cell_type": "code",
   "execution_count": 5,
   "metadata": {},
   "outputs": [
    {
     "name": "stdout",
     "output_type": "stream",
     "text": [
      "Add data in memory"
     ]
    },
    {
     "data": {
      "application/json": {
       "tailoutput": {
        "basename": "tail.out",
        "checksum": "sha1$1bd1dc77a1b65db7766212208e2f8f360a53a724",
        "class": "File",
        "http://commonwl.org/cwltool#generation": 0,
        "id": "tailoutput",
        "location": "file:///private/tmp/CWLKERNEL_DATA/runtime_data/tail.out",
        "nameext": ".out",
        "nameroot": "tail",
        "size": 301
       }
      },
      "text/plain": [
       "<IPython.core.display.JSON object>"
      ]
     },
     "metadata": {
      "application/json": {
       "expanded": false,
       "root": "root"
      }
     },
     "output_type": "display_data"
    }
   ],
   "source": [
    "% execute tail\n",
    "tailinput:\n",
    "    class: File\n",
    "    location: /private/tmp/CWLKERNEL_DATA/runtime_data/head.out\n",
    "number_of_lines: 5"
   ]
  },
  {
   "cell_type": "code",
   "execution_count": 6,
   "metadata": {},
   "outputs": [
    {
     "name": "stdout",
     "output_type": "stream",
     "text": [
      "07/05/2020,7,5,2020,168,9,Afghanistan,AF,AFG,37172386,Asia\n",
      "06/05/2020,6,5,2020,330,5,Afghanistan,AF,AFG,37172386,Asia\n",
      "05/05/2020,5,5,2020,190,5,Afghanistan,AF,AFG,37172386,Asia\n",
      "04/05/2020,4,5,2020,235,13,Afghanistan,AF,AFG,37172386,Asia\n",
      "03/05/2020,3,5,2020,134,4,Afghanistan,AF,AFG,37172386,Asia\n"
     ]
    }
   ],
   "source": [
    "% display_data tailoutput"
   ]
  }
 ],
 "metadata": {
  "kernelspec": {
   "display_name": "Common Workflow Languages",
   "language": "cwl",
   "name": "cwlkernel"
  },
  "language_info": {
   "file_extension": ".cwl",
   "mimetype": "text/x-cwl",
   "name": "yaml"
  }
 },
 "nbformat": 4,
 "nbformat_minor": 4
}
