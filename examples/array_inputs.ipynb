{
 "cells": [
  {
   "cell_type": "markdown",
   "metadata": {},
   "source": [
    "# Common Workflow Language - Jupyter Notebook Kernel"
   ]
  },
  {
   "cell_type": "markdown",
   "metadata": {},
   "source": [
    "## [Array Inputs](https://www.commonwl.org/user_guide/09-array-inputs/index.html)"
   ]
  },
  {
   "cell_type": "code",
   "execution_count": 1,
   "metadata": {},
   "outputs": [
    {
     "name": "stdout",
     "output_type": "stream",
     "text": [
      "tool 'array-inputs' registered"
     ]
    }
   ],
   "source": [
    "#!/usr/bin/env cwl-runner\n",
    "\n",
    "cwlVersion: v1.0\n",
    "class: CommandLineTool\n",
    "id: array-inputs\n",
    "inputs:\n",
    "  filesA:\n",
    "    type: string[]\n",
    "    inputBinding:\n",
    "      prefix: -A\n",
    "      position: 1\n",
    "\n",
    "  filesB:\n",
    "    type:\n",
    "      type: array\n",
    "      items: string\n",
    "      inputBinding:\n",
    "        prefix: -B=\n",
    "        separate: false\n",
    "    inputBinding:\n",
    "      position: 2\n",
    "\n",
    "  filesC:\n",
    "    type: string[]\n",
    "    inputBinding:\n",
    "      prefix: -C=\n",
    "      itemSeparator: \",\"\n",
    "      separate: false\n",
    "      position: 4\n",
    "\n",
    "outputs:\n",
    "  example_out:\n",
    "    type: stdout\n",
    "stdout: output.txt\n",
    "baseCommand: echo"
   ]
  },
  {
   "cell_type": "code",
   "execution_count": 2,
   "metadata": {},
   "outputs": [
    {
     "name": "stdout",
     "output_type": "stream",
     "text": [
      "Add data in memory"
     ]
    },
    {
     "data": {
      "application/json": {
       "example_out": {
        "basename": "output.txt",
        "checksum": "sha1$91038e29452bc77dcd21edef90a15075f3071540",
        "class": "File",
        "http://commonwl.org/cwltool#generation": 0,
        "id": "example_out",
        "location": "file:///private/tmp/CWLKERNEL_DATA/14e9210b-d2fd-4064-b580-5ca245830f34/runtime_data/output.txt",
        "nameext": ".txt",
        "nameroot": "output",
        "result_counter": 0,
        "size": 60
       }
      },
      "text/plain": [
       "{\"example_out\": {\"location\": \"file:///private/tmp/CWLKERNEL_DATA/14e9210b-d2fd-4064-b580-5ca245830f34/runtime_data/output.txt\", \"basename\": \"output.txt\", \"nameroot\": \"output\", \"nameext\": \".txt\", \"class\": \"File\", \"checksum\": \"sha1$91038e29452bc77dcd21edef90a15075f3071540\", \"size\": 60, \"http://commonwl.org/cwltool#generation\": 0, \"id\": \"example_out\", \"result_counter\": 0}}"
      ]
     },
     "metadata": {
      "application/json": {
       "expanded": false,
       "root": "root"
      }
     },
     "output_type": "display_data"
    }
   ],
   "source": [
    "% execute array-inputs\n",
    "filesA: [one, two, three]\n",
    "filesB: [four, five, six]\n",
    "filesC: [seven, eight, nine]"
   ]
  },
  {
   "cell_type": "code",
   "execution_count": 3,
   "metadata": {},
   "outputs": [
    {
     "name": "stdout",
     "output_type": "stream",
     "text": [
      "-A one two three -B=four -B=five -B=six -C=seven,eight,nine\n"
     ]
    }
   ],
   "source": [
    "% displayData example_out"
   ]
  }
 ],
 "metadata": {
  "kernelspec": {
   "display_name": "Common Workflow Languages",
   "language": "cwl",
   "name": "cwlkernel"
  },
  "language_info": {
   "file_extension": ".cwl",
   "mimetype": "text/x-cwl",
   "name": "yaml"
  }
 },
 "nbformat": 4,
 "nbformat_minor": 4
}
