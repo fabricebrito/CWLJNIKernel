{
 "cells": [
  {
   "cell_type": "markdown",
   "metadata": {},
   "source": [
    "# Github Import"
   ]
  },
  {
   "cell_type": "code",
   "execution_count": 1,
   "metadata": {},
   "outputs": [
    {
     "name": "stdout",
     "output_type": "stream",
     "text": [
      "tool 'threesteps' registered\n",
      "tool 'head' registered\n",
      "tool 'grep' registered\n"
     ]
    }
   ],
   "source": [
    "% githubImport https://github.com/giannisdoukas/CWLJNIKernel/blob/dev/tests/cwl/3stepWorkflow.cwl"
   ]
  },
  {
   "cell_type": "code",
   "execution_count": 2,
   "metadata": {},
   "outputs": [
    {
     "name": "stdout",
     "output_type": "stream",
     "text": [
      "Add data in memory"
     ]
    },
    {
     "data": {
      "application/json": {
       "outputfile": {
        "basename": "grepoutput.out",
        "checksum": "sha1$b0358a00b0d42af80bef65e80097e39ea0aa2790",
        "class": "File",
        "http://commonwl.org/cwltool#generation": 0,
        "id": "outputfile",
        "location": "file:///private/tmp/CWLKERNEL_DATA/453b9279-a737-4f8f-a766-f8220aa2bebe/runtime_data/grepoutput.out",
        "nameext": ".out",
        "nameroot": "grepoutput",
        "result_counter": 0,
        "size": 70
       },
       "outputfile2": {
        "basename": "grepoutput.out",
        "checksum": "sha1$66285c44ede6dbac842fda1bf455b339648249f3",
        "class": "File",
        "http://commonwl.org/cwltool#generation": 0,
        "id": "outputfile2",
        "location": "file:///private/tmp/CWLKERNEL_DATA/453b9279-a737-4f8f-a766-f8220aa2bebe/runtime_data/grepoutput.out_2",
        "nameext": ".out",
        "nameroot": "grepoutput",
        "result_counter": 1,
        "size": 96
       }
      },
      "text/plain": [
       "{\"outputfile\": {\"location\": \"file:///private/tmp/CWLKERNEL_DATA/453b9279-a737-4f8f-a766-f8220aa2bebe/runtime_data/grepoutput.out\", \"basename\": \"grepoutput.out\", \"nameroot\": \"grepoutput\", \"nameext\": \".out\", \"class\": \"File\", \"checksum\": \"sha1$b0358a00b0d42af80bef65e80097e39ea0aa2790\", \"size\": 70, \"http://commonwl.org/cwltool#generation\": 0, \"id\": \"outputfile\", \"result_counter\": 0}, \"outputfile2\": {\"location\": \"file:///private/tmp/CWLKERNEL_DATA/453b9279-a737-4f8f-a766-f8220aa2bebe/runtime_data/grepoutput.out_2\", \"basename\": \"grepoutput.out\", \"nameroot\": \"grepoutput\", \"nameext\": \".out\", \"class\": \"File\", \"checksum\": \"sha1$66285c44ede6dbac842fda1bf455b339648249f3\", \"size\": 96, \"http://commonwl.org/cwltool#generation\": 0, \"id\": \"outputfile2\", \"result_counter\": 1}}"
      ]
     },
     "metadata": {
      "application/json": {
       "expanded": false,
       "root": "root"
      }
     },
     "output_type": "display_data"
    }
   ],
   "source": [
    "% execute threesteps\n",
    "inputfile:\n",
    "    class: File\n",
    "    location: /Users/dks/Workspaces/CWLKernel/tests/cwl/3stepWorkflow.cwl\n",
    "query: id"
   ]
  }
 ],
 "metadata": {
  "kernelspec": {
   "display_name": "Common Workflow Languages",
   "language": "cwl",
   "name": "cwlkernel"
  },
  "language_info": {
   "file_extension": ".cwl",
   "mimetype": "text/x-cwl",
   "name": "yaml"
  }
 },
 "nbformat": 4,
 "nbformat_minor": 4
}
