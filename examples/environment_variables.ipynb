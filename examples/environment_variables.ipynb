{
 "cells": [
  {
   "cell_type": "markdown",
   "metadata": {},
   "source": [
    "# Common Workflow Language - Jupyter Notebook Kernel"
   ]
  },
  {
   "cell_type": "markdown",
   "metadata": {},
   "source": [
    "## [Environment Variables](https://www.commonwl.org/user_guide/12-env/index.html)"
   ]
  },
  {
   "cell_type": "code",
   "execution_count": 1,
   "metadata": {},
   "outputs": [
    {
     "name": "stdout",
     "output_type": "stream",
     "text": [
      "tool 'env' registered"
     ]
    }
   ],
   "source": [
    "#!/usr/bin/env cwl-runner\n",
    "\n",
    "cwlVersion: v1.0\n",
    "class: CommandLineTool\n",
    "id: env\n",
    "baseCommand: env\n",
    "requirements:\n",
    "  EnvVarRequirement:\n",
    "    envDef:\n",
    "      HELLO: $(inputs.message)\n",
    "inputs:\n",
    "  message:\n",
    "    type: string\n",
    "outputs:\n",
    "  example_out:\n",
    "    type: stdout\n",
    "stdout: output.txt"
   ]
  },
  {
   "cell_type": "code",
   "execution_count": 2,
   "metadata": {},
   "outputs": [
    {
     "name": "stdout",
     "output_type": "stream",
     "text": [
      "Add data in memory"
     ]
    },
    {
     "data": {
      "application/json": {
       "example_out": {
        "basename": "output.txt",
        "checksum": "sha1$bd6b1ec7c90aa2dabb8b5f517d981b2b269eda79",
        "class": "File",
        "http://commonwl.org/cwltool#generation": 0,
        "id": "example_out",
        "location": "file:///private/tmp/CWLKERNEL_DATA/99def472-6d1a-4329-ac33-312b36c3aeb7/runtime_data/output.txt",
        "nameext": ".txt",
        "nameroot": "output",
        "result_counter": 0,
        "size": 656
       }
      },
      "text/plain": [
       "{\"example_out\": {\"location\": \"file:///private/tmp/CWLKERNEL_DATA/99def472-6d1a-4329-ac33-312b36c3aeb7/runtime_data/output.txt\", \"basename\": \"output.txt\", \"nameroot\": \"output\", \"nameext\": \".txt\", \"class\": \"File\", \"checksum\": \"sha1$bd6b1ec7c90aa2dabb8b5f517d981b2b269eda79\", \"size\": 656, \"http://commonwl.org/cwltool#generation\": 0, \"id\": \"example_out\", \"result_counter\": 0}}"
      ]
     },
     "metadata": {
      "application/json": {
       "expanded": false,
       "root": "root"
      }
     },
     "output_type": "display_data"
    }
   ],
   "source": [
    "% execute env\n",
    "message: Hello world!"
   ]
  },
  {
   "cell_type": "code",
   "execution_count": 3,
   "metadata": {},
   "outputs": [
    {
     "name": "stdout",
     "output_type": "stream",
     "text": [
      "HELLO=Hello world!\n",
      "HOME=/private/var/folders/k8/800hfw_n2md_2zb44lhhtqqr0000gn/T/jn6az4xe\n",
      "TMPDIR=/private/var/folders/k8/800hfw_n2md_2zb44lhhtqqr0000gn/T/tmpjvm5h021\n",
      "PATH=/Users/dks/.pyenv/versions/3.8.2/bin:/usr/local/Cellar/pyenv/1.2.18/libexec:/Users/dks/.pyenv/plugins/pyenv-virtualenv/bin:/opt/jena/apache-jena-3.15.0/bin:/Users/dks/.pyenv/plugins/pyenv-virtualenv/shims:/Users/dks/.pyenv/shims:/opt/cwltool/bin:/Applications/Visual Studio Code.app/Contents/Resources/app/bin:/usr/local/sbin:/opt/apache-maven/bin:/usr/local/opt/llvm/bin/:/usr/local/opt/python/libexec/bin:/usr/local/bin:/usr/bin:/bin:/usr/sbin:/sbin:/Library/TeX/texbin:/opt/X11/bin\n"
     ]
    }
   ],
   "source": [
    "% displayData example_out"
   ]
  }
 ],
 "metadata": {
  "kernelspec": {
   "display_name": "Common Workflow Languages",
   "language": "cwl",
   "name": "cwlkernel"
  },
  "language_info": {
   "file_extension": ".cwl",
   "mimetype": "text/x-cwl",
   "name": "yaml"
  }
 },
 "nbformat": 4,
 "nbformat_minor": 4
}
