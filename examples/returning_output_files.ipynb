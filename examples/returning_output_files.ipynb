{
 "cells": [
  {
   "cell_type": "markdown",
   "metadata": {},
   "source": [
    "# Common Workflow Language - Jupyter Notebook Kernel"
   ]
  },
  {
   "cell_type": "markdown",
   "metadata": {},
   "source": [
    "## [Returning Output Files](https://www.commonwl.org/user_guide/04-output/index.html)"
   ]
  },
  {
   "cell_type": "markdown",
   "metadata": {},
   "source": [
    "Like the previous example first we have to send the input description file. Because again we have a file in our input first we need to create it otherwise the server returns an error.\n",
    "To create the tar file run the following commands on the server:\n",
    "```bash\n",
    "cd /tmp/CWLKERNEL_DATA/runtime_data/\n",
    "touch hello.txt\n",
    "tar -cvf hello.tar hello.txt\n",
    "```"
   ]
  },
  {
   "cell_type": "code",
   "execution_count": 1,
   "metadata": {},
   "outputs": [
    {
     "name": "stdout",
     "output_type": "stream",
     "text": [
      "tool 'tar-extract' registered"
     ]
    }
   ],
   "source": [
    "#!/usr/bin/env cwl-runner\n",
    "\n",
    "cwlVersion: v1.0\n",
    "class: CommandLineTool\n",
    "baseCommand: [tar, --extract]\n",
    "id: tar-extract\n",
    "inputs:\n",
    "  tarfile:\n",
    "    type: File\n",
    "    inputBinding:\n",
    "      prefix: --file\n",
    "outputs:\n",
    "  example_out:\n",
    "    type: File\n",
    "    outputBinding:\n",
    "      glob: hello.txt"
   ]
  },
  {
   "cell_type": "code",
   "execution_count": 2,
   "metadata": {},
   "outputs": [
    {
     "name": "stderr",
     "output_type": "stream",
     "text": [
      "FileNotFoundError: /private/tmp/CWLKERNEL_DATA/fd5fa31c-d61e-4c60-8719-f55030054350/runtime_data/hello.tar"
     ]
    }
   ],
   "source": [
    "% execute tar-extract\n",
    "tarfile:\n",
    "  class: File\n",
    "  location: hello.tar"
   ]
  },
  {
   "cell_type": "markdown",
   "metadata": {},
   "source": [
    "Now we can see that server gives us the location of the created output file. "
   ]
  }
 ],
 "metadata": {
  "kernelspec": {
   "display_name": "Common Workflow Languages",
   "language": "cwl",
   "name": "cwlkernel"
  },
  "language_info": {
   "file_extension": ".cwl",
   "mimetype": "text/x-cwl",
   "name": "yaml"
  }
 },
 "nbformat": 4,
 "nbformat_minor": 4
}
