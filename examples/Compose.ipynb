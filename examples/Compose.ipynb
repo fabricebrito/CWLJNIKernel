{
 "cells": [
  {
   "cell_type": "markdown",
   "metadata": {},
   "source": [
    "# Compose"
   ]
  },
  {
   "cell_type": "code",
   "execution_count": 1,
   "metadata": {},
   "outputs": [
    {
     "name": "stdout",
     "output_type": "stream",
     "text": [
      "tool 'head' registered"
     ]
    }
   ],
   "source": [
    "class: CommandLineTool\n",
    "cwlVersion: v1.1\n",
    "id: head\n",
    "baseCommand:\n",
    "  - head\n",
    "inputs:\n",
    "  - id: number_of_lines\n",
    "    type: int?\n",
    "    inputBinding:\n",
    "      position: 0\n",
    "      prefix: '-n'\n",
    "  - id: headinput\n",
    "    type: File\n",
    "    inputBinding:\n",
    "      position: 1\n",
    "outputs:\n",
    "  - id: headoutput\n",
    "    type: stdout\n",
    "label: head\n",
    "stdout: head.out"
   ]
  },
  {
   "cell_type": "code",
   "execution_count": 2,
   "metadata": {},
   "outputs": [
    {
     "name": "stdout",
     "output_type": "stream",
     "text": [
      "tool 'tail' registered"
     ]
    }
   ],
   "source": [
    "class: CommandLineTool\n",
    "cwlVersion: v1.1\n",
    "id: tail\n",
    "baseCommand:\n",
    "  - tail\n",
    "inputs:\n",
    "  - id: number_of_lines\n",
    "    type: int?\n",
    "    inputBinding:\n",
    "      position: 0\n",
    "      prefix: '-n'\n",
    "  - id: tailinput\n",
    "    type: File\n",
    "    inputBinding:\n",
    "      position: 1\n",
    "outputs:\n",
    "  - id: tailoutput\n",
    "    type: stdout\n",
    "label: tail\n",
    "stdout: tail.out"
   ]
  },
  {
   "cell_type": "code",
   "execution_count": 3,
   "metadata": {},
   "outputs": [
    {
     "data": {
      "application/json": {
       "class": "Workflow",
       "cwlVersion": "v1.0",
       "id": "main",
       "inputs": [
        {
         "id": "inputfile",
         "type": "File"
        }
       ],
       "outputs": [
        {
         "id": "tailoutput",
         "outputSource": "tailstepid/tailoutput",
         "type": "File"
        }
       ],
       "requirements": {},
       "steps": {
        "headstepid": {
         "in": {
          "headinput": "inputfile"
         },
         "out": [
          "headoutput"
         ],
         "run": "head.cwl"
        },
        "tailstepid": {
         "in": {
          "tailinput": "headstepid/headoutput"
         },
         "out": [
          "tailoutput"
         ],
         "run": "tail.cwl"
        }
       }
      },
      "text/plain": [
       "{\"cwlVersion\": \"v1.0\", \"class\": \"Workflow\", \"id\": \"main\", \"inputs\": [{\"id\": \"inputfile\", \"type\": \"File\"}], \"outputs\": [{\"id\": \"tailoutput\", \"type\": \"File\", \"outputSource\": \"tailstepid/tailoutput\"}], \"steps\": {\"tailstepid\": {\"run\": \"tail.cwl\", \"in\": {\"tailinput\": \"headstepid/headoutput\"}, \"out\": [\"tailoutput\"]}, \"headstepid\": {\"run\": \"head.cwl\", \"in\": {\"headinput\": \"inputfile\"}, \"out\": [\"headoutput\"]}}, \"requirements\": {}}"
      ]
     },
     "metadata": {
      "application/json": {
       "expanded": false,
       "root": "root"
      }
     },
     "output_type": "display_data"
    }
   ],
   "source": [
    "% newWorkflow main\n",
    "% newWorkflowAddStep tail tailstepid\n",
    "% newWorkflowAddStep head headstepid\n",
    "% newWorkflowAddInput headstepid headinput\n",
    "id: inputfile\n",
    "type: File\n",
    "% newWorkflowAddStepIn tailstepid headstepid headoutput\n",
    "tailinput: headstepid/headoutput\n",
    "% newWorkflowAddOutputSource tailstepid/tailoutput File\n",
    "% newWorkflowBuild"
   ]
  },
  {
   "cell_type": "code",
   "execution_count": 4,
   "metadata": {},
   "outputs": [
    {
     "name": "stdout",
     "output_type": "stream",
     "text": [
      "Add data in memory"
     ]
    },
    {
     "data": {
      "application/json": {
       "tailoutput": {
        "basename": "tail.out",
        "checksum": "sha1$e186f07099395040cf9d83ff1eb0a5dad4801937",
        "class": "File",
        "http://commonwl.org/cwltool#generation": 0,
        "id": "tailoutput",
        "location": "file:///private/tmp/CWLKERNEL_DATA/d8f78c63-0b6a-413b-b60e-03d8f96165c8/runtime_data/tail.out",
        "nameext": ".out",
        "nameroot": "tail",
        "result_counter": 0,
        "size": 688
       }
      },
      "text/plain": [
       "{\"tailoutput\": {\"location\": \"file:///private/tmp/CWLKERNEL_DATA/d8f78c63-0b6a-413b-b60e-03d8f96165c8/runtime_data/tail.out\", \"basename\": \"tail.out\", \"nameroot\": \"tail\", \"nameext\": \".out\", \"class\": \"File\", \"checksum\": \"sha1$e186f07099395040cf9d83ff1eb0a5dad4801937\", \"size\": 688, \"http://commonwl.org/cwltool#generation\": 0, \"id\": \"tailoutput\", \"result_counter\": 0}}"
      ]
     },
     "metadata": {
      "application/json": {
       "expanded": false,
       "root": "root"
      }
     },
     "output_type": "display_data"
    }
   ],
   "source": [
    "% execute main\n",
    "inputfile: \n",
    "    class: File\n",
    "    location: /Users/dks/Workspaces/CWLKernel/tests/input_data/data.csv"
   ]
  },
  {
   "cell_type": "code",
   "execution_count": 5,
   "metadata": {},
   "outputs": [
    {
     "data": {
      "image/svg+xml": [
       "<?xml version=\"1.0\" encoding=\"UTF-8\" standalone=\"no\"?>\n",
       "<!DOCTYPE svg PUBLIC \"-//W3C//DTD SVG 1.1//EN\"\n",
       " \"http://www.w3.org/Graphics/SVG/1.1/DTD/svg11.dtd\">\n",
       "<!-- Generated by graphviz version 2.42.3 (20191010.1750)\n",
       " -->\n",
       "<!-- Title: G Pages: 1 -->\n",
       "<svg width=\"143pt\" height=\"320pt\"\n",
       " viewBox=\"0.00 0.00 143.00 320.00\" xmlns=\"http://www.w3.org/2000/svg\" xmlns:xlink=\"http://www.w3.org/1999/xlink\">\n",
       "<g id=\"graph0\" class=\"graph\" transform=\"scale(1 1) rotate(0) translate(4 316)\">\n",
       "<title>G</title>\n",
       "<polygon fill=\"#eeeeee\" stroke=\"transparent\" points=\"-4,4 -4,-316 139,-316 139,4 -4,4\"/>\n",
       "<g id=\"clust1\" class=\"cluster\">\n",
       "<title>cluster_inputs</title>\n",
       "<polygon fill=\"#eeeeee\" stroke=\"black\" stroke-dasharray=\"5,2\" points=\"12,-229 12,-304 122,-304 122,-229 12,-229\"/>\n",
       "<text text-anchor=\"middle\" x=\"66.92\" y=\"-235.8\" font-family=\"Times,serif\" font-size=\"14.00\">Workflow Inputs</text>\n",
       "</g>\n",
       "<g id=\"clust2\" class=\"cluster\">\n",
       "<title>cluster_outputs</title>\n",
       "<polygon fill=\"#eeeeee\" stroke=\"black\" stroke-dasharray=\"5,2\" points=\"8,-8 8,-83 127,-83 127,-8 8,-8\"/>\n",
       "<text text-anchor=\"middle\" x=\"67.25\" y=\"-14.8\" font-family=\"Times,serif\" font-size=\"14.00\">Workflow Outputs</text>\n",
       "</g>\n",
       "<!-- file:///private/tmp/CWLKERNEL_DATA/d8f78c63&#45;0b6a&#45;413b&#45;b60e&#45;03d8f96165c8/repo/main.cwl#main/headstepid -->\n",
       "<g id=\"node1\" class=\"node\">\n",
       "<title>file:///private/tmp/CWLKERNEL_DATA/d8f78c63&#45;0b6a&#45;413b&#45;b60e&#45;03d8f96165c8/repo/main.cwl#main/headstepid</title>\n",
       "<polygon fill=\"lightgoldenrodyellow\" stroke=\"black\" points=\"40,-184.5 40,-220.5 94,-220.5 94,-184.5 40,-184.5\"/>\n",
       "<text text-anchor=\"middle\" x=\"66.71\" y=\"-198.3\" font-family=\"Times,serif\" font-size=\"14.00\">head</text>\n",
       "</g>\n",
       "<!-- file:///private/tmp/CWLKERNEL_DATA/d8f78c63&#45;0b6a&#45;413b&#45;b60e&#45;03d8f96165c8/repo/main.cwl#main/tailstepid -->\n",
       "<g id=\"node2\" class=\"node\">\n",
       "<title>file:///private/tmp/CWLKERNEL_DATA/d8f78c63&#45;0b6a&#45;413b&#45;b60e&#45;03d8f96165c8/repo/main.cwl#main/tailstepid</title>\n",
       "<polygon fill=\"lightgoldenrodyellow\" stroke=\"black\" points=\"40,-111.5 40,-147.5 94,-147.5 94,-111.5 40,-111.5\"/>\n",
       "<text text-anchor=\"middle\" x=\"66.94\" y=\"-125.3\" font-family=\"Times,serif\" font-size=\"14.00\">tail</text>\n",
       "</g>\n",
       "<!-- file:///private/tmp/CWLKERNEL_DATA/d8f78c63&#45;0b6a&#45;413b&#45;b60e&#45;03d8f96165c8/repo/main.cwl#main/headstepid&#45;&gt;file:///private/tmp/CWLKERNEL_DATA/d8f78c63&#45;0b6a&#45;413b&#45;b60e&#45;03d8f96165c8/repo/main.cwl#main/tailstepid -->\n",
       "<g id=\"edge1\" class=\"edge\">\n",
       "<title>file:///private/tmp/CWLKERNEL_DATA/d8f78c63&#45;0b6a&#45;413b&#45;b60e&#45;03d8f96165c8/repo/main.cwl#main/headstepid&#45;&gt;file:///private/tmp/CWLKERNEL_DATA/d8f78c63&#45;0b6a&#45;413b&#45;b60e&#45;03d8f96165c8/repo/main.cwl#main/tailstepid</title>\n",
       "<path fill=\"none\" stroke=\"black\" d=\"M67,-184.31C67,-176.29 67,-166.55 67,-157.57\"/>\n",
       "<polygon fill=\"black\" stroke=\"black\" points=\"70.5,-157.53 67,-147.53 63.5,-157.53 70.5,-157.53\"/>\n",
       "</g>\n",
       "<!-- file:///private/tmp/CWLKERNEL_DATA/d8f78c63&#45;0b6a&#45;413b&#45;b60e&#45;03d8f96165c8/repo/main.cwl#main/tailoutput -->\n",
       "<g id=\"node4\" class=\"node\">\n",
       "<title>file:///private/tmp/CWLKERNEL_DATA/d8f78c63&#45;0b6a&#45;413b&#45;b60e&#45;03d8f96165c8/repo/main.cwl#main/tailoutput</title>\n",
       "<polygon fill=\"#94ddf4\" stroke=\"black\" points=\"16.23,-38.5 16.23,-74.5 117.77,-74.5 117.77,-38.5 16.23,-38.5\"/>\n",
       "<text text-anchor=\"middle\" x=\"67\" y=\"-52.3\" font-family=\"Times,serif\" font-size=\"14.00\">main/tailoutput</text>\n",
       "</g>\n",
       "<!-- file:///private/tmp/CWLKERNEL_DATA/d8f78c63&#45;0b6a&#45;413b&#45;b60e&#45;03d8f96165c8/repo/main.cwl#main/tailstepid&#45;&gt;file:///private/tmp/CWLKERNEL_DATA/d8f78c63&#45;0b6a&#45;413b&#45;b60e&#45;03d8f96165c8/repo/main.cwl#main/tailoutput -->\n",
       "<g id=\"edge3\" class=\"edge\">\n",
       "<title>file:///private/tmp/CWLKERNEL_DATA/d8f78c63&#45;0b6a&#45;413b&#45;b60e&#45;03d8f96165c8/repo/main.cwl#main/tailstepid&#45;&gt;file:///private/tmp/CWLKERNEL_DATA/d8f78c63&#45;0b6a&#45;413b&#45;b60e&#45;03d8f96165c8/repo/main.cwl#main/tailoutput</title>\n",
       "<path fill=\"none\" stroke=\"black\" d=\"M67,-111.31C67,-103.29 67,-93.55 67,-84.57\"/>\n",
       "<polygon fill=\"black\" stroke=\"black\" points=\"70.5,-84.53 67,-74.53 63.5,-84.53 70.5,-84.53\"/>\n",
       "</g>\n",
       "<!-- file:///private/tmp/CWLKERNEL_DATA/d8f78c63&#45;0b6a&#45;413b&#45;b60e&#45;03d8f96165c8/repo/main.cwl#main/inputfile -->\n",
       "<g id=\"node3\" class=\"node\">\n",
       "<title>file:///private/tmp/CWLKERNEL_DATA/d8f78c63&#45;0b6a&#45;413b&#45;b60e&#45;03d8f96165c8/repo/main.cwl#main/inputfile</title>\n",
       "<polygon fill=\"#94ddf4\" stroke=\"black\" points=\"19.72,-259.5 19.72,-295.5 114.28,-295.5 114.28,-259.5 19.72,-259.5\"/>\n",
       "<text text-anchor=\"middle\" x=\"67\" y=\"-273.3\" font-family=\"Times,serif\" font-size=\"14.00\">main/inputfile</text>\n",
       "</g>\n",
       "<!-- file:///private/tmp/CWLKERNEL_DATA/d8f78c63&#45;0b6a&#45;413b&#45;b60e&#45;03d8f96165c8/repo/main.cwl#main/inputfile&#45;&gt;file:///private/tmp/CWLKERNEL_DATA/d8f78c63&#45;0b6a&#45;413b&#45;b60e&#45;03d8f96165c8/repo/main.cwl#main/headstepid -->\n",
       "<g id=\"edge2\" class=\"edge\">\n",
       "<title>file:///private/tmp/CWLKERNEL_DATA/d8f78c63&#45;0b6a&#45;413b&#45;b60e&#45;03d8f96165c8/repo/main.cwl#main/inputfile&#45;&gt;file:///private/tmp/CWLKERNEL_DATA/d8f78c63&#45;0b6a&#45;413b&#45;b60e&#45;03d8f96165c8/repo/main.cwl#main/headstepid</title>\n",
       "<path fill=\"none\" stroke=\"black\" d=\"M67,-259.2C67,-250.75 67,-240.37 67,-230.87\"/>\n",
       "<polygon fill=\"black\" stroke=\"black\" points=\"70.5,-230.68 67,-220.68 63.5,-230.68 70.5,-230.68\"/>\n",
       "</g>\n",
       "</g>\n",
       "</svg>\n"
      ],
      "text/plain": [
       "<?xml version=\"1.0\" encoding=\"UTF-8\" standalone=\"no\"?>\n",
       "<!DOCTYPE svg PUBLIC \"-//W3C//DTD SVG 1.1//EN\"\n",
       " \"http://www.w3.org/Graphics/SVG/1.1/DTD/svg11.dtd\">\n",
       "<!-- Generated by graphviz version 2.42.3 (20191010.1750)\n",
       " -->\n",
       "<!-- Title: G Pages: 1 -->\n",
       "<svg width=\"143pt\" height=\"320pt\"\n",
       " viewBox=\"0.00 0.00 143.00 320.00\" xmlns=\"http://www.w3.org/2000/svg\" xmlns:xlink=\"http://www.w3.org/1999/xlink\">\n",
       "<g id=\"graph0\" class=\"graph\" transform=\"scale(1 1) rotate(0) translate(4 316)\">\n",
       "<title>G</title>\n",
       "<polygon fill=\"#eeeeee\" stroke=\"transparent\" points=\"-4,4 -4,-316 139,-316 139,4 -4,4\"/>\n",
       "<g id=\"clust1\" class=\"cluster\">\n",
       "<title>cluster_inputs</title>\n",
       "<polygon fill=\"#eeeeee\" stroke=\"black\" stroke-dasharray=\"5,2\" points=\"12,-229 12,-304 122,-304 122,-229 12,-229\"/>\n",
       "<text text-anchor=\"middle\" x=\"66.92\" y=\"-235.8\" font-family=\"Times,serif\" font-size=\"14.00\">Workflow Inputs</text>\n",
       "</g>\n",
       "<g id=\"clust2\" class=\"cluster\">\n",
       "<title>cluster_outputs</title>\n",
       "<polygon fill=\"#eeeeee\" stroke=\"black\" stroke-dasharray=\"5,2\" points=\"8,-8 8,-83 127,-83 127,-8 8,-8\"/>\n",
       "<text text-anchor=\"middle\" x=\"67.25\" y=\"-14.8\" font-family=\"Times,serif\" font-size=\"14.00\">Workflow Outputs</text>\n",
       "</g>\n",
       "<!-- file:///private/tmp/CWLKERNEL_DATA/d8f78c63&#45;0b6a&#45;413b&#45;b60e&#45;03d8f96165c8/repo/main.cwl#main/headstepid -->\n",
       "<g id=\"node1\" class=\"node\">\n",
       "<title>file:///private/tmp/CWLKERNEL_DATA/d8f78c63&#45;0b6a&#45;413b&#45;b60e&#45;03d8f96165c8/repo/main.cwl#main/headstepid</title>\n",
       "<polygon fill=\"lightgoldenrodyellow\" stroke=\"black\" points=\"40,-184.5 40,-220.5 94,-220.5 94,-184.5 40,-184.5\"/>\n",
       "<text text-anchor=\"middle\" x=\"66.71\" y=\"-198.3\" font-family=\"Times,serif\" font-size=\"14.00\">head</text>\n",
       "</g>\n",
       "<!-- file:///private/tmp/CWLKERNEL_DATA/d8f78c63&#45;0b6a&#45;413b&#45;b60e&#45;03d8f96165c8/repo/main.cwl#main/tailstepid -->\n",
       "<g id=\"node2\" class=\"node\">\n",
       "<title>file:///private/tmp/CWLKERNEL_DATA/d8f78c63&#45;0b6a&#45;413b&#45;b60e&#45;03d8f96165c8/repo/main.cwl#main/tailstepid</title>\n",
       "<polygon fill=\"lightgoldenrodyellow\" stroke=\"black\" points=\"40,-111.5 40,-147.5 94,-147.5 94,-111.5 40,-111.5\"/>\n",
       "<text text-anchor=\"middle\" x=\"66.94\" y=\"-125.3\" font-family=\"Times,serif\" font-size=\"14.00\">tail</text>\n",
       "</g>\n",
       "<!-- file:///private/tmp/CWLKERNEL_DATA/d8f78c63&#45;0b6a&#45;413b&#45;b60e&#45;03d8f96165c8/repo/main.cwl#main/headstepid&#45;&gt;file:///private/tmp/CWLKERNEL_DATA/d8f78c63&#45;0b6a&#45;413b&#45;b60e&#45;03d8f96165c8/repo/main.cwl#main/tailstepid -->\n",
       "<g id=\"edge1\" class=\"edge\">\n",
       "<title>file:///private/tmp/CWLKERNEL_DATA/d8f78c63&#45;0b6a&#45;413b&#45;b60e&#45;03d8f96165c8/repo/main.cwl#main/headstepid&#45;&gt;file:///private/tmp/CWLKERNEL_DATA/d8f78c63&#45;0b6a&#45;413b&#45;b60e&#45;03d8f96165c8/repo/main.cwl#main/tailstepid</title>\n",
       "<path fill=\"none\" stroke=\"black\" d=\"M67,-184.31C67,-176.29 67,-166.55 67,-157.57\"/>\n",
       "<polygon fill=\"black\" stroke=\"black\" points=\"70.5,-157.53 67,-147.53 63.5,-157.53 70.5,-157.53\"/>\n",
       "</g>\n",
       "<!-- file:///private/tmp/CWLKERNEL_DATA/d8f78c63&#45;0b6a&#45;413b&#45;b60e&#45;03d8f96165c8/repo/main.cwl#main/tailoutput -->\n",
       "<g id=\"node4\" class=\"node\">\n",
       "<title>file:///private/tmp/CWLKERNEL_DATA/d8f78c63&#45;0b6a&#45;413b&#45;b60e&#45;03d8f96165c8/repo/main.cwl#main/tailoutput</title>\n",
       "<polygon fill=\"#94ddf4\" stroke=\"black\" points=\"16.23,-38.5 16.23,-74.5 117.77,-74.5 117.77,-38.5 16.23,-38.5\"/>\n",
       "<text text-anchor=\"middle\" x=\"67\" y=\"-52.3\" font-family=\"Times,serif\" font-size=\"14.00\">main/tailoutput</text>\n",
       "</g>\n",
       "<!-- file:///private/tmp/CWLKERNEL_DATA/d8f78c63&#45;0b6a&#45;413b&#45;b60e&#45;03d8f96165c8/repo/main.cwl#main/tailstepid&#45;&gt;file:///private/tmp/CWLKERNEL_DATA/d8f78c63&#45;0b6a&#45;413b&#45;b60e&#45;03d8f96165c8/repo/main.cwl#main/tailoutput -->\n",
       "<g id=\"edge3\" class=\"edge\">\n",
       "<title>file:///private/tmp/CWLKERNEL_DATA/d8f78c63&#45;0b6a&#45;413b&#45;b60e&#45;03d8f96165c8/repo/main.cwl#main/tailstepid&#45;&gt;file:///private/tmp/CWLKERNEL_DATA/d8f78c63&#45;0b6a&#45;413b&#45;b60e&#45;03d8f96165c8/repo/main.cwl#main/tailoutput</title>\n",
       "<path fill=\"none\" stroke=\"black\" d=\"M67,-111.31C67,-103.29 67,-93.55 67,-84.57\"/>\n",
       "<polygon fill=\"black\" stroke=\"black\" points=\"70.5,-84.53 67,-74.53 63.5,-84.53 70.5,-84.53\"/>\n",
       "</g>\n",
       "<!-- file:///private/tmp/CWLKERNEL_DATA/d8f78c63&#45;0b6a&#45;413b&#45;b60e&#45;03d8f96165c8/repo/main.cwl#main/inputfile -->\n",
       "<g id=\"node3\" class=\"node\">\n",
       "<title>file:///private/tmp/CWLKERNEL_DATA/d8f78c63&#45;0b6a&#45;413b&#45;b60e&#45;03d8f96165c8/repo/main.cwl#main/inputfile</title>\n",
       "<polygon fill=\"#94ddf4\" stroke=\"black\" points=\"19.72,-259.5 19.72,-295.5 114.28,-295.5 114.28,-259.5 19.72,-259.5\"/>\n",
       "<text text-anchor=\"middle\" x=\"67\" y=\"-273.3\" font-family=\"Times,serif\" font-size=\"14.00\">main/inputfile</text>\n",
       "</g>\n",
       "<!-- file:///private/tmp/CWLKERNEL_DATA/d8f78c63&#45;0b6a&#45;413b&#45;b60e&#45;03d8f96165c8/repo/main.cwl#main/inputfile&#45;&gt;file:///private/tmp/CWLKERNEL_DATA/d8f78c63&#45;0b6a&#45;413b&#45;b60e&#45;03d8f96165c8/repo/main.cwl#main/headstepid -->\n",
       "<g id=\"edge2\" class=\"edge\">\n",
       "<title>file:///private/tmp/CWLKERNEL_DATA/d8f78c63&#45;0b6a&#45;413b&#45;b60e&#45;03d8f96165c8/repo/main.cwl#main/inputfile&#45;&gt;file:///private/tmp/CWLKERNEL_DATA/d8f78c63&#45;0b6a&#45;413b&#45;b60e&#45;03d8f96165c8/repo/main.cwl#main/headstepid</title>\n",
       "<path fill=\"none\" stroke=\"black\" d=\"M67,-259.2C67,-250.75 67,-240.37 67,-230.87\"/>\n",
       "<polygon fill=\"black\" stroke=\"black\" points=\"70.5,-230.68 67,-220.68 63.5,-230.68 70.5,-230.68\"/>\n",
       "</g>\n",
       "</g>\n",
       "</svg>\n"
      ]
     },
     "metadata": {},
     "output_type": "display_data"
    }
   ],
   "source": [
    "% view main"
   ]
  }
 ],
 "metadata": {
  "kernelspec": {
   "display_name": "Common Workflow Languages",
   "language": "cwl",
   "name": "cwlkernel"
  },
  "language_info": {
   "file_extension": ".cwl",
   "mimetype": "text/x-cwl",
   "name": "yaml"
  }
 },
 "nbformat": 4,
 "nbformat_minor": 4
}
