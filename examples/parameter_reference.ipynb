{
 "cells": [
  {
   "cell_type": "markdown",
   "metadata": {},
   "source": [
    "# Common Workflow Language - Jupyter Notebook Kernel"
   ]
  },
  {
   "cell_type": "markdown",
   "metadata": {},
   "source": [
    "## [Parameter References](https://www.commonwl.org/user_guide/06-params/index.html)\n",
    "\n",
    "For parameter reference nothing change. We execute the workflow the same way.\n",
    "\n",
    "For the current examples there are some prerequired files which could be created by running the following examples:\n",
    "```bash\n",
    "rm hello.tar # if file exists\n",
    "touch goodbye.txt\n",
    "tar -cvf hello.tar goodbye.txt\n",
    "```"
   ]
  },
  {
   "cell_type": "code",
   "execution_count": 1,
   "metadata": {},
   "outputs": [
    {
     "name": "stdout",
     "output_type": "stream",
     "text": [
      "tool 'tar' registered"
     ]
    }
   ],
   "source": [
    "#!/usr/bin/env cwl-runner\n",
    "\n",
    "cwlVersion: v1.0\n",
    "class: CommandLineTool\n",
    "baseCommand: [tar, --extract]\n",
    "id: tar\n",
    "inputs:\n",
    "  tarfile:\n",
    "    type: File\n",
    "    inputBinding:\n",
    "      prefix: --file\n",
    "  extractfile:\n",
    "    type: string\n",
    "    inputBinding:\n",
    "      position: 1\n",
    "outputs:\n",
    "  extracted_file:\n",
    "    type: File\n",
    "    outputBinding:\n",
    "      glob: $(inputs.extractfile)"
   ]
  },
  {
   "cell_type": "code",
   "execution_count": 2,
   "metadata": {},
   "outputs": [
    {
     "name": "stderr",
     "output_type": "stream",
     "text": [
      "FileNotFoundError: /private/tmp/CWLKERNEL_DATA/123c0738-dab8-4809-9d86-4267f0080da4/runtime_data/hello.tar"
     ]
    }
   ],
   "source": [
    "% execute tar\n",
    "tarfile:\n",
    "  class: File\n",
    "  path: hello.tar\n",
    "extractfile: goodbye.txt"
   ]
  }
 ],
 "metadata": {
  "kernelspec": {
   "display_name": "Common Workflow Languages",
   "language": "cwl",
   "name": "cwlkernel"
  },
  "language_info": {
   "file_extension": ".cwl",
   "mimetype": "text/x-cwl",
   "name": "yaml"
  }
 },
 "nbformat": 4,
 "nbformat_minor": 4
}
