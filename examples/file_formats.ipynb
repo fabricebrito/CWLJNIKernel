{
 "cells": [
  {
   "cell_type": "code",
   "execution_count": 2,
   "metadata": {},
   "outputs": [
    {
     "name": "stdout",
     "output_type": "stream",
     "text": [
      "tool 'demon' registered"
     ]
    }
   ],
   "source": [
    "#!/usr/bin/env cwl-runner\n",
    "cwlVersion: v1.0\n",
    "class: CommandLineTool\n",
    "\n",
    "label: An example tool demonstrating metadata.\n",
    "id: demon\n",
    "inputs:\n",
    "  aligned_sequences:\n",
    "    type: File\n",
    "    label: Aligned sequences in BAM format\n",
    "    format: edam:format_2572\n",
    "    inputBinding:\n",
    "      position: 1\n",
    "\n",
    "baseCommand: [ wc, -l ]\n",
    "\n",
    "stdout: output.txt\n",
    "\n",
    "outputs:\n",
    "  report:\n",
    "    type: stdout\n",
    "    format: edam:format_1964\n",
    "    label: A text file that contains a line count\n",
    "\n",
    "$namespaces:\n",
    "  edam: http://edamontology.org/\n",
    "$schemas:\n",
    "  - http://edamontology.org/EDAM_1.18.owl\n"
   ]
  },
  {
   "cell_type": "code",
   "execution_count": 3,
   "metadata": {},
   "outputs": [
    {
     "name": "stderr",
     "output_type": "stream",
     "text": [
      "FileNotFoundError: /private/tmp/CWLKERNEL_DATA/runtime_data/file-formats.bam"
     ]
    }
   ],
   "source": [
    "% execute demon\n",
    "aligned_sequences:\n",
    "    class: File\n",
    "    format: http://edamontology.org/format_2572\n",
    "    location: file-formats.bam"
   ]
  }
 ],
 "metadata": {
  "kernelspec": {
   "display_name": "Common Workflow Languages",
   "language": "cwl",
   "name": "cwlkernel"
  },
  "language_info": {
   "file_extension": ".cwl",
   "mimetype": "text/x-cwl",
   "name": "yaml"
  }
 },
 "nbformat": 4,
 "nbformat_minor": 4
}
