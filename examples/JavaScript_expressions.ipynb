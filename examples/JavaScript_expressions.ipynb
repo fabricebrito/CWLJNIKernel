{
 "cells": [
  {
   "cell_type": "markdown",
   "metadata": {},
   "source": [
    "# Common Workflow Language - Jupyter Notebook Kernel"
   ]
  },
  {
   "cell_type": "markdown",
   "metadata": {},
   "source": [
    "## [JavaScript Expressions](https://www.commonwl.org/user_guide/13-expressions/index.html)"
   ]
  },
  {
   "cell_type": "code",
   "execution_count": 2,
   "metadata": {},
   "outputs": [
    {
     "name": "stdout",
     "output_type": "stream",
     "text": [
      "tool 'js' registered"
     ]
    }
   ],
   "source": [
    "#!/usr/bin/env cwl-runner\n",
    "\n",
    "cwlVersion: v1.0\n",
    "class: CommandLineTool\n",
    "baseCommand: echo\n",
    "\n",
    "requirements:\n",
    "  InlineJavascriptRequirement: {}\n",
    "id: js\n",
    "inputs: []\n",
    "outputs:\n",
    "  example_out:\n",
    "    type: stdout\n",
    "stdout: output.txt\n",
    "arguments:\n",
    "  - prefix: -A\n",
    "    valueFrom: $(1+1)\n",
    "  - prefix: -B\n",
    "    valueFrom: $(\"/foo/bar/baz\".split('/').slice(-1)[0])\n",
    "  - prefix: -C\n",
    "    valueFrom: |\n",
    "      ${\n",
    "        var r = [];\n",
    "        for (var i = 10; i >= 1; i--) {\n",
    "          r.push(i);\n",
    "        }\n",
    "        return r;\n",
    "      }\n"
   ]
  },
  {
   "cell_type": "code",
   "execution_count": 3,
   "metadata": {},
   "outputs": [
    {
     "data": {
      "application/json": {
       "example_out": {
        "basename": "output.txt",
        "checksum": "sha1$a739a6ff72d660d32111265e508ed2fc91f01a7c",
        "class": "File",
        "http://commonwl.org/cwltool#generation": 0,
        "id": "example_out",
        "location": "file:///private/tmp/CWLKERNEL_DATA/runtime_data/output.txt",
        "nameext": ".txt",
        "nameroot": "output",
        "size": 36
       }
      },
      "text/plain": [
       "<IPython.core.display.JSON object>"
      ]
     },
     "metadata": {
      "application/json": {
       "expanded": false,
       "root": "root"
      }
     },
     "output_type": "display_data"
    }
   ],
   "source": [
    "% execute js"
   ]
  },
  {
   "cell_type": "code",
   "execution_count": 4,
   "metadata": {},
   "outputs": [
    {
     "name": "stdout",
     "output_type": "stream",
     "text": [
      "-A 2 -B baz -C 10 9 8 7 6 5 4 3 2 1\n"
     ]
    }
   ],
   "source": [
    "% display_data example_out"
   ]
  }
 ],
 "metadata": {
  "kernelspec": {
   "display_name": "Common Workflow Languages",
   "language": "cwl",
   "name": "cwlkernel"
  },
  "language_info": {
   "file_extension": ".cwl",
   "mimetype": "text/x-cwl",
   "name": "yaml"
  }
 },
 "nbformat": 4,
 "nbformat_minor": 4
}
