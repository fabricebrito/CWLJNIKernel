{
 "cells": [
  {
   "cell_type": "markdown",
   "metadata": {},
   "source": [
    "# Common Workflow Language - Jupyter Notebook Kernel"
   ]
  },
  {
   "cell_type": "markdown",
   "metadata": {},
   "source": [
    "## [Custom Types](https://www.commonwl.org/user_guide/19-custom-types/index.html)"
   ]
  },
  {
   "cell_type": "markdown",
   "metadata": {},
   "source": [
    "Not supported yet"
   ]
  },
  {
   "cell_type": "code",
   "execution_count": 2,
   "metadata": {},
   "outputs": [
    {
     "name": "stdout",
     "output_type": "stream",
     "text": [
      "tool 'custom-types' registered"
     ]
    }
   ],
   "source": [
    "#!/usr/bin/env cwl-runner \n",
    "cwlVersion: v1.0\n",
    "class: CommandLineTool\n",
    "id: custom-types\n",
    "requirements:\n",
    "  InlineJavascriptRequirement: {}\n",
    "  ResourceRequirement:\n",
    "    coresMax: 1\n",
    "    ramMin: 100  # just a default, could be lowered\n",
    "  SchemaDefRequirement:\n",
    "    types:\n",
    "      - $import: biom-convert-table.yaml\n",
    "\n",
    "hints:\n",
    "  DockerRequirement:\n",
    "    dockerPull: 'quay.io/biocontainers/biom-format:2.1.6--py27_0'\n",
    "  SoftwareRequirement:\n",
    "    packages:\n",
    "      biom-format:\n",
    "        specs: [ \"https://doi.org/10.1186/2047-217X-1-7\" ]\n",
    "        version: [ \"2.1.6\" ]\n",
    "\n",
    "inputs:\n",
    "  biom:\n",
    "    type: File\n",
    "    format: edam:format_3746  # BIOM\n",
    "    inputBinding:\n",
    "      prefix: --input-fp\n",
    "  table_type:\n",
    "    type: biom-convert-table.yaml#table_type\n",
    "    inputBinding:\n",
    "      prefix: --table-type\n",
    "\n",
    "  header_key:\n",
    "    type: string?\n",
    "    doc: |\n",
    "      The observation metadata to include from the input BIOM table file when\n",
    "      creating a tsv table file. By default no observation metadata will be\n",
    "      included.\n",
    "    inputBinding:\n",
    "      prefix: --header-key\n",
    "\n",
    "baseCommand: [ biom, convert ]\n",
    "\n",
    "arguments:\n",
    "  - valueFrom: $(inputs.biom.nameroot).hdf5  \n",
    "    prefix: --output-fp\n",
    "  - --to-hdf5\n",
    "\n",
    "outputs:\n",
    "  result:\n",
    "    type: File\n",
    "    outputBinding: { glob: \"$(inputs.biom.nameroot)*\" }\n",
    "\n",
    "$namespaces:\n",
    "  edam: http://edamontology.org/\n",
    "  s: https://schema.org/\n",
    "\n",
    "$schemas:\n",
    "  - http://edamontology.org/EDAM_1.16.owl\n",
    "  - https://schema.org/docs/schema_org_rdfa.html\n",
    "\n",
    "s:license: https://spdx.org/licenses/Apache-2.0\n",
    "s:copyrightHolder: \"EMBL - European Bioinformatics Institute\""
   ]
  },
  {
   "cell_type": "code",
   "execution_count": 3,
   "metadata": {},
   "outputs": [
    {
     "name": "stderr",
     "output_type": "stream",
     "text": [
      "FileNotFoundError: /private/tmp/CWLKERNEL_DATA/runtime_data/rich_sparse_otu_table.biom"
     ]
    }
   ],
   "source": [
    "% execute custom-types\n",
    "biom:\n",
    "    class: File\n",
    "    format: http://edamontology.org/format_3746\n",
    "    path: rich_sparse_otu_table.biom\n",
    "table_type: OTU table"
   ]
  }
 ],
 "metadata": {
  "kernelspec": {
   "display_name": "Common Workflow Languages",
   "language": "cwl",
   "name": "cwlkernel"
  },
  "language_info": {
   "file_extension": ".cwl",
   "mimetype": "text/x-cwl",
   "name": "yaml"
  }
 },
 "nbformat": 4,
 "nbformat_minor": 4
}
