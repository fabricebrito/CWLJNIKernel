{
 "cells": [
  {
   "cell_type": "markdown",
   "metadata": {},
   "source": [
    "# Common Workflow Language - Jupyter Notebook Kernel"
   ]
  },
  {
   "cell_type": "markdown",
   "metadata": {},
   "source": [
    "## [Array Outputs](https://www.commonwl.org/user_guide/10-array-outputs/index.html)"
   ]
  },
  {
   "cell_type": "code",
   "execution_count": 1,
   "metadata": {},
   "outputs": [
    {
     "name": "stdout",
     "output_type": "stream",
     "text": [
      "tool 'array-outputs' registered"
     ]
    }
   ],
   "source": [
    "#!/usr/bin/env cwl-runner\n",
    "\n",
    "cwlVersion: v1.0\n",
    "class: CommandLineTool\n",
    "id: array-outputs\n",
    "baseCommand: touch\n",
    "inputs:\n",
    "  touchfiles:\n",
    "    type:\n",
    "      type: array\n",
    "      items: string\n",
    "    inputBinding:\n",
    "      position: 1\n",
    "outputs:\n",
    "  output:\n",
    "    type:\n",
    "      type: array\n",
    "      items: File\n",
    "    outputBinding:\n",
    "      glob: \"*.txt\""
   ]
  },
  {
   "cell_type": "code",
   "execution_count": 2,
   "metadata": {},
   "outputs": [
    {
     "name": "stdout",
     "output_type": "stream",
     "text": [
      "Add data in memory"
     ]
    },
    {
     "data": {
      "application/json": {
       "output": [
        {
         "basename": "baz.txt",
         "checksum": "sha1$da39a3ee5e6b4b0d3255bfef95601890afd80709",
         "class": "File",
         "http://commonwl.org/cwltool#generation": 0,
         "id": "output_1",
         "location": "file:///private/tmp/CWLKERNEL_DATA/3360cdd7-6691-49b1-af09-a94ba9f26688/runtime_data/baz.txt",
         "nameext": ".txt",
         "nameroot": "baz",
         "result_counter": 0,
         "size": 0
        },
        {
         "basename": "foo.txt",
         "checksum": "sha1$da39a3ee5e6b4b0d3255bfef95601890afd80709",
         "class": "File",
         "http://commonwl.org/cwltool#generation": 0,
         "id": "output_2",
         "location": "file:///private/tmp/CWLKERNEL_DATA/3360cdd7-6691-49b1-af09-a94ba9f26688/runtime_data/foo.txt",
         "nameext": ".txt",
         "nameroot": "foo",
         "result_counter": 1,
         "size": 0
        }
       ]
      },
      "text/plain": [
       "{\"output\": [{\"location\": \"file:///private/tmp/CWLKERNEL_DATA/3360cdd7-6691-49b1-af09-a94ba9f26688/runtime_data/baz.txt\", \"basename\": \"baz.txt\", \"nameroot\": \"baz\", \"nameext\": \".txt\", \"class\": \"File\", \"checksum\": \"sha1$da39a3ee5e6b4b0d3255bfef95601890afd80709\", \"size\": 0, \"http://commonwl.org/cwltool#generation\": 0, \"id\": \"output_1\", \"result_counter\": 0}, {\"location\": \"file:///private/tmp/CWLKERNEL_DATA/3360cdd7-6691-49b1-af09-a94ba9f26688/runtime_data/foo.txt\", \"basename\": \"foo.txt\", \"nameroot\": \"foo\", \"nameext\": \".txt\", \"class\": \"File\", \"checksum\": \"sha1$da39a3ee5e6b4b0d3255bfef95601890afd80709\", \"size\": 0, \"http://commonwl.org/cwltool#generation\": 0, \"id\": \"output_2\", \"result_counter\": 1}]}"
      ]
     },
     "metadata": {
      "application/json": {
       "expanded": false,
       "root": "root"
      }
     },
     "output_type": "display_data"
    }
   ],
   "source": [
    "% execute array-outputs\n",
    "touchfiles:\n",
    "  - foo.txt\n",
    "  - bar.dat\n",
    "  - baz.txt"
   ]
  },
  {
   "cell_type": "code",
   "execution_count": 3,
   "metadata": {},
   "outputs": [
    {
     "data": {
      "text/html": [
       "<ul>\n",
       "\t<li><a href=\"file:///private/tmp/CWLKERNEL_DATA/3360cdd7-6691-49b1-af09-a94ba9f26688/results/2a4ce69d-6a78-4117-a8e9-62b5a81f468c/baz.txt\" target=\"_empty\">/private/tmp/CWLKERNEL_DATA/3360cdd7-6691-49b1-af09-a94ba9f26688/results/2a4ce69d-6a78-4117-a8e9-62b5a81f468c/baz.txt</a></li>\n",
       "\t<li><a href=\"file:///private/tmp/CWLKERNEL_DATA/3360cdd7-6691-49b1-af09-a94ba9f26688/results/2a4ce69d-6a78-4117-a8e9-62b5a81f468c/foo.txt\" target=\"_empty\">/private/tmp/CWLKERNEL_DATA/3360cdd7-6691-49b1-af09-a94ba9f26688/results/2a4ce69d-6a78-4117-a8e9-62b5a81f468c/foo.txt</a></li>\n",
       "</ul>"
      ]
     },
     "metadata": {
      "application/json": {
       "expanded": false,
       "root": "root"
      }
     },
     "output_type": "display_data"
    }
   ],
   "source": [
    "% data"
   ]
  }
 ],
 "metadata": {
  "kernelspec": {
   "display_name": "Common Workflow Languages",
   "language": "cwl",
   "name": "cwlkernel"
  },
  "language_info": {
   "file_extension": ".cwl",
   "mimetype": "text/x-cwl",
   "name": "yaml"
  }
 },
 "nbformat": 4,
 "nbformat_minor": 4
}
