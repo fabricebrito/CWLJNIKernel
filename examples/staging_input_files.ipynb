{
 "cells": [
  {
   "cell_type": "markdown",
   "metadata": {},
   "source": [
    "# Common Workflow Language - Jupyter Notebook Kernel"
   ]
  },
  {
   "cell_type": "markdown",
   "metadata": {},
   "source": [
    "## [Staging Input Files](https://www.commonwl.org/user_guide/15-staging/index.html)"
   ]
  },
  {
   "cell_type": "code",
   "execution_count": 1,
   "metadata": {},
   "outputs": [
    {
     "name": "stdout",
     "output_type": "stream",
     "text": [
      "tool 'compile' registered"
     ]
    }
   ],
   "source": [
    "#!/usr/bin/env cwl-runner\n",
    "id: compile\n",
    "cwlVersion: v1.0\n",
    "class: CommandLineTool\n",
    "hints:\n",
    "  DockerRequirement:\n",
    "    dockerPull: openjdk:9.0.1-11-slim\n",
    "baseCommand: javac\n",
    "\n",
    "requirements:\n",
    "  InitialWorkDirRequirement:\n",
    "    listing:\n",
    "      - $(inputs.src)\n",
    "\n",
    "inputs:\n",
    "  src:\n",
    "    type: File\n",
    "    inputBinding:\n",
    "      position: 1\n",
    "      valueFrom: $(self.basename)\n",
    "\n",
    "outputs:\n",
    "  classfile:\n",
    "    type: File\n",
    "    outputBinding:\n",
    "      glob: \"*.class\""
   ]
  },
  {
   "cell_type": "code",
   "execution_count": 2,
   "metadata": {},
   "outputs": [
    {
     "name": "stderr",
     "output_type": "stream",
     "text": [
      "FileNotFoundError: /private/tmp/CWLKERNEL_DATA/9bcedd73-3187-4f8c-a9b5-ca1cc411b98a/runtime_data/Hello.java"
     ]
    }
   ],
   "source": [
    "% execute compile\n",
    "src:\n",
    "  class: File\n",
    "  location: Hello.java"
   ]
  }
 ],
 "metadata": {
  "kernelspec": {
   "display_name": "Common Workflow Languages",
   "language": "cwl",
   "name": "cwlkernel"
  },
  "language_info": {
   "file_extension": ".cwl",
   "mimetype": "text/x-cwl",
   "name": "yaml"
  }
 },
 "nbformat": 4,
 "nbformat_minor": 4
}
