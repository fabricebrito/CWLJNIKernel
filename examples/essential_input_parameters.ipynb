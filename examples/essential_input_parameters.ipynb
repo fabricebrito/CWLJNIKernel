{
 "cells": [
  {
   "cell_type": "markdown",
   "metadata": {},
   "source": [
    "# Common Workflow Language - Jupyter Notebook Kernel"
   ]
  },
  {
   "cell_type": "markdown",
   "metadata": {},
   "source": [
    "## [Essential Input Parameters](https://www.commonwl.org/user_guide/03-input/index.html)\n",
    "\n",
    "In that example, we present how we can use JNCWL (Jupyter Notebook Common Workflow Language) to run the next example. First, we need to send the input description file. "
   ]
  },
  {
   "cell_type": "code",
   "execution_count": 1,
   "metadata": {},
   "outputs": [
    {
     "name": "stderr",
     "output_type": "stream",
     "text": [
      "NotImplementedError: "
     ]
    }
   ],
   "source": [
    "example_flag: true\n",
    "example_string: hello\n",
    "example_int: 42\n",
    "example_file:\n",
    "  class: File\n",
    "  location: whale.txt"
   ]
  },
  {
   "cell_type": "markdown",
   "metadata": {},
   "source": [
    "If we execute the aforementioned and the file does not exists in the servers filesystem then the kernel returns an error. "
   ]
  },
  {
   "cell_type": "markdown",
   "metadata": {},
   "source": [
    "Now \"we create by hand\" whale.txt file in the location which is required. The default path for input files, for unix based systems (Linux/OSX), is `/tmp/CWLKERNEL_DATA/runtime_data/`. So we run the following commands to JN server to create the file:\n",
    "\n",
    "```bash\n",
    "$ cd /tmp/CWLKERNEL_DATA/runtime_data/\n",
    "$ touch whale.txt\n",
    "```\n",
    "\n",
    "Then we send again the same description file and we see that the server accepted it."
   ]
  },
  {
   "cell_type": "code",
   "execution_count": null,
   "metadata": {},
   "outputs": [],
   "source": [
    "example_flag: true\n",
    "example_string: hello\n",
    "example_int: 42\n",
    "example_file:\n",
    "  class: File\n",
    "  location: whale.txt"
   ]
  },
  {
   "cell_type": "markdown",
   "metadata": {},
   "source": [
    "Then we send the workflow to execute to execute it."
   ]
  },
  {
   "cell_type": "code",
   "execution_count": null,
   "metadata": {
    "collapsed": false,
    "jupyter": {
     "outputs_hidden": false
    },
    "pycharm": {
     "name": "#%%\n"
    }
   },
   "outputs": [],
   "source": [
    "#!/usr/bin/env cwl-runner\n",
    "\n",
    "cwlVersion: v1.0\n",
    "class: CommandLineTool\n",
    "baseCommand: echo\n",
    "inputs:\n",
    "  example_flag:\n",
    "    type: boolean\n",
    "    inputBinding:\n",
    "      position: 1\n",
    "      prefix: -f\n",
    "  example_string:\n",
    "    type: string\n",
    "    inputBinding:\n",
    "      position: 3\n",
    "      prefix: --example-string\n",
    "  example_int:\n",
    "    type: int\n",
    "    inputBinding:\n",
    "      position: 2\n",
    "      prefix: -i\n",
    "      separate: false\n",
    "  example_file:\n",
    "    type: File?\n",
    "    inputBinding:\n",
    "      prefix: --file=\n",
    "      separate: false\n",
    "      position: 4\n",
    "\n",
    "outputs: []"
   ]
  }
 ],
 "metadata": {
  "kernelspec": {
   "display_name": "Common Workflow Languages",
   "language": "cwl",
   "name": "cwlkernel"
  },
  "language_info": {
   "file_extension": ".cwl",
   "mimetype": "text/x-cwl",
   "name": "yaml"
  },
  "pycharm": {
   "stem_cell": {
    "cell_type": "raw",
    "metadata": {
     "collapsed": false
    },
    "source": []
   }
  }
 },
 "nbformat": 4,
 "nbformat_minor": 4
}
