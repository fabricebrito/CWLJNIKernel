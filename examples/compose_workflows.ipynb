{
 "cells": [
  {
   "cell_type": "markdown",
   "metadata": {},
   "source": [
    "# Compose Workflows"
   ]
  },
  {
   "cell_type": "code",
   "execution_count": 1,
   "metadata": {},
   "outputs": [
    {
     "name": "stdout",
     "output_type": "stream",
     "text": [
      "tool 'head' registered"
     ]
    }
   ],
   "source": [
    "class: CommandLineTool\n",
    "cwlVersion: v1.1\n",
    "id: head\n",
    "baseCommand:\n",
    "  - head\n",
    "inputs:\n",
    "  - id: number_of_lines\n",
    "    type: int?\n",
    "    inputBinding:\n",
    "      position: 0\n",
    "      prefix: '-n'\n",
    "  - id: headinput\n",
    "    type: File\n",
    "    inputBinding:\n",
    "      position: 1\n",
    "outputs:\n",
    "  - id: headoutput\n",
    "    type: stdout\n",
    "label: head\n",
    "stdout: head.out"
   ]
  },
  {
   "cell_type": "code",
   "execution_count": 2,
   "metadata": {},
   "outputs": [
    {
     "name": "stdout",
     "output_type": "stream",
     "text": [
      "tool 'tail' registered"
     ]
    }
   ],
   "source": [
    "class: CommandLineTool\n",
    "cwlVersion: v1.1\n",
    "id: tail\n",
    "baseCommand:\n",
    "  - tail\n",
    "inputs:\n",
    "  - id: number_of_lines\n",
    "    type: int?\n",
    "    inputBinding:\n",
    "      position: 0\n",
    "      prefix: '-n'\n",
    "  - id: tailinput\n",
    "    type: File\n",
    "    inputBinding:\n",
    "      position: 1\n",
    "outputs:\n",
    "  - id: tailoutput\n",
    "    type: stdout\n",
    "label: tail\n",
    "stdout: tail.out"
   ]
  },
  {
   "cell_type": "code",
   "execution_count": 3,
   "metadata": {},
   "outputs": [
    {
     "name": "stdout",
     "output_type": "stream",
     "text": [
      "tool 'scatter-head' registered"
     ]
    }
   ],
   "source": [
    "cwlVersion: v1.1\n",
    "class: Workflow\n",
    "id: scatter-head\n",
    "inputs:\n",
    "  files:\n",
    "    type: File[]\n",
    "outputs:\n",
    "  output_files:\n",
    "    type: File[]\n",
    "    outputSource: head/headoutput\n",
    "steps:\n",
    "  head:\n",
    "    run: head.cwl\n",
    "    scatter: headinput\n",
    "    in:\n",
    "      headinput: files\n",
    "    out:\n",
    "      - headoutput\n",
    "requirements:\n",
    "  ScatterFeatureRequirement: {}\n",
    "  InlineJavascriptRequirement: {}"
   ]
  },
  {
   "cell_type": "code",
   "execution_count": 4,
   "metadata": {},
   "outputs": [
    {
     "name": "stdout",
     "output_type": "stream",
     "text": [
      "tool 'scatter-tail' registered"
     ]
    }
   ],
   "source": [
    "cwlVersion: v1.1\n",
    "class: Workflow\n",
    "id: scatter-tail\n",
    "inputs:\n",
    "  files:\n",
    "    type: File[]\n",
    "outputs:\n",
    "  output_files:\n",
    "    type: File[]\n",
    "    outputSource: tail/tailoutput\n",
    "steps:\n",
    "  tail:\n",
    "    run: tail.cwl\n",
    "    scatter: tailinput\n",
    "    in:\n",
    "      tailinput: files\n",
    "    out:\n",
    "      - tailoutput\n",
    "requirements:\n",
    "  ScatterFeatureRequirement: {}\n",
    "  InlineJavascriptRequirement: {}"
   ]
  },
  {
   "cell_type": "code",
   "execution_count": 5,
   "metadata": {},
   "outputs": [
    {
     "data": {
      "application/json": {
       "class": "Workflow",
       "cwlVersion": "v1.0",
       "id": "main",
       "inputs": [
        {
         "id": "files",
         "type": "File[]"
        }
       ],
       "outputs": [
        {
         "id": "output_files",
         "outputSource": "tail/output_files",
         "type": "File[]"
        }
       ],
       "requirements": {
        "SubworkflowFeatureRequirement": {}
       },
       "steps": {
        "head": {
         "in": {
          "files": "files"
         },
         "out": [
          "output_files"
         ],
         "run": "scatter-head.cwl"
        },
        "tail": {
         "in": {
          "files": "head/output_files"
         },
         "out": [
          "output_files"
         ],
         "run": "scatter-tail.cwl"
        }
       }
      },
      "text/plain": [
       "{\"cwlVersion\": \"v1.0\", \"class\": \"Workflow\", \"id\": \"main\", \"inputs\": [{\"id\": \"files\", \"type\": \"File[]\"}], \"outputs\": [{\"id\": \"output_files\", \"type\": \"File[]\", \"outputSource\": \"tail/output_files\"}], \"steps\": {\"head\": {\"run\": \"scatter-head.cwl\", \"in\": {\"files\": \"files\"}, \"out\": [\"output_files\"]}, \"tail\": {\"run\": \"scatter-tail.cwl\", \"in\": {\"files\": \"head/output_files\"}, \"out\": [\"output_files\"]}}, \"requirements\": {\"SubworkflowFeatureRequirement\": {}}}"
      ]
     },
     "metadata": {
      "application/json": {
       "expanded": false,
       "root": "root"
      }
     },
     "output_type": "display_data"
    }
   ],
   "source": [
    "% newWorkflow main\n",
    "% newWorkflowAddStep scatter-head head\n",
    "% newWorkflowAddStep scatter-tail tail\n",
    "% newWorkflowAddInput head files\n",
    "id: files\n",
    "type: File[]\n",
    "% newWorkflowAddStepIn tail head output_files\n",
    "files: head/output_files\n",
    "% newWorkflowAddOutputSource tail/output_files File[]\n",
    "% newWorkflowBuild"
   ]
  },
  {
   "cell_type": "code",
   "execution_count": 7,
   "metadata": {},
   "outputs": [
    {
     "name": "stdout",
     "output_type": "stream",
     "text": [
      "Add data in memory"
     ]
    },
    {
     "data": {
      "application/json": {
       "output_files": [
        {
         "basename": "tail.out",
         "checksum": "sha1$e186f07099395040cf9d83ff1eb0a5dad4801937",
         "class": "File",
         "http://commonwl.org/cwltool#generation": 0,
         "id": "output_files_1",
         "location": "file:///private/tmp/CWLKERNEL_DATA/8f8ec854-ecee-44b4-bfbc-f5ebb4b64566/runtime_data/tail.out",
         "nameext": ".out",
         "nameroot": "tail",
         "size": 688
        },
        {
         "basename": "tail.out",
         "checksum": "sha1$83b0caf5e95a7692dcff4f9ed5763348c23dd730",
         "class": "File",
         "http://commonwl.org/cwltool#generation": 0,
         "id": "output_files_2",
         "location": "file:///private/tmp/CWLKERNEL_DATA/8f8ec854-ecee-44b4-bfbc-f5ebb4b64566/runtime_data/tail.out_2",
         "nameext": ".out",
         "nameroot": "tail",
         "size": 57
        }
       ]
      },
      "text/plain": [
       "{\"output_files\": [{\"location\": \"file:///private/tmp/CWLKERNEL_DATA/8f8ec854-ecee-44b4-bfbc-f5ebb4b64566/runtime_data/tail.out\", \"basename\": \"tail.out\", \"nameroot\": \"tail\", \"nameext\": \".out\", \"class\": \"File\", \"checksum\": \"sha1$e186f07099395040cf9d83ff1eb0a5dad4801937\", \"size\": 688, \"http://commonwl.org/cwltool#generation\": 0, \"id\": \"output_files_1\"}, {\"location\": \"file:///private/tmp/CWLKERNEL_DATA/8f8ec854-ecee-44b4-bfbc-f5ebb4b64566/runtime_data/tail.out_2\", \"basename\": \"tail.out\", \"nameroot\": \"tail\", \"nameext\": \".out\", \"class\": \"File\", \"checksum\": \"sha1$83b0caf5e95a7692dcff4f9ed5763348c23dd730\", \"size\": 57, \"http://commonwl.org/cwltool#generation\": 0, \"id\": \"output_files_2\"}]}"
      ]
     },
     "metadata": {
      "application/json": {
       "expanded": false,
       "root": "root"
      }
     },
     "output_type": "display_data"
    }
   ],
   "source": [
    "% execute main\n",
    "files:\n",
    "  - class: File\n",
    "    location: /Users/dks/Workspaces/CWLKernel/tests/input_data/data.csv\n",
    "  - class: File\n",
    "    location: /Users/dks/Workspaces/CWLKernel/tests/input_data/data1.yml"
   ]
  }
 ],
 "metadata": {
  "kernelspec": {
   "display_name": "Common Workflow Languages",
   "language": "cwl",
   "name": "cwlkernel"
  },
  "language_info": {
   "file_extension": ".cwl",
   "mimetype": "text/x-cwl",
   "name": "yaml"
  }
 },
 "nbformat": 4,
 "nbformat_minor": 4
}
